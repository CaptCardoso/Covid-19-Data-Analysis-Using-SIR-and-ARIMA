{
 "cells": [
  {
   "cell_type": "markdown",
   "id": "b0ee07a9",
   "metadata": {},
   "source": [
    "# David Notebook"
   ]
  },
  {
   "cell_type": "markdown",
   "id": "ce8ff5f4",
   "metadata": {},
   "source": [
    "# 1) SIR Model\n",
    "SIR models provide a theoretical framework for the time rates of change of three populations in an outbreak of a contageous disease."
   ]
  },
  {
   "cell_type": "markdown",
   "id": "cfef6077-5845-43e6-a454-e8d30924d1fa",
   "metadata": {},
   "source": [
    "##  1.1) Introducing Variables and Parameters\n",
    "The populations in the model are given the shorthand \n",
    "- $S$ for the number of people in the population that are suscptable to getting infected\n",
    "- $I$ for the number of people that are infected\n",
    "- $R$ for the people that are recovered from the disease (an are therefore imune, possibly only temporarily)."
   ]
  },
  {
   "cell_type": "markdown",
   "id": "516d6b70-cc5f-4c04-bd11-c49d0037ce9d",
   "metadata": {},
   "source": [
    "The three populations exchange members as time goes on as shown in the diagram below. For example, suscepable people become infected. The following directed graph shows the exchanges in the model with $a,~b,~c,$ and $\\alpha$ as arbitary numbers. \n",
    "\n",
    "- $a$ is called **transmissability**\n",
    "- $b$ is called **recovery rate**\n",
    "- $c$ is called **deimunization rate**\n",
    "- $\\alpha$ is called **vccination rate**\n",
    "\n",
    "<img src=\"./images/full_SIR.png\" alt=\"drawing\" width=\"400\"/>"
   ]
  },
  {
   "cell_type": "code",
   "execution_count": 159,
   "id": "9bb5597a",
   "metadata": {},
   "outputs": [
    {
     "data": {
      "image/png": "[encoded data removed]",
      "text/plain": [
       "<Figure size 432x288 with 1 Axes>"
      ]
     },
     "metadata": {},
     "output_type": "display_data"
    }
   ],
   "source": [
    "# this cell is just to generate the compartment diagram. \n",
    "import matplotlib.pyplot as plt\n",
    "import networkx as nx # to draw graphs, including directed graphs\n",
    "\n",
    "edges = [('S','I',{'label':'aSI'}),\n",
    "         ('I','R',{'label':'bI'}), \n",
    "         ('R','S',{'label':'cR'}), \n",
    "         ('S','R',{'label':'\\n\\n\\n\\n\\n\\n\\u03B1S'})\n",
    "        ] # the \\n's are a hack to separate labels\n",
    "G = nx.DiGraph(edges)\n",
    "\n",
    "# explicitly set positions\n",
    "pos = {'S': (0, 0), 'I': (1, -.5), 'R': (2, 0)}\n",
    "\n",
    "options = {\n",
    "    'arrows':True,\n",
    "    \"font_size\": 36,\n",
    "    \"node_size\": 3000,\n",
    "    'node_shape':'s',\n",
    "#     'alpha' : 0.5,\n",
    "    \"node_color\": \"white\",\n",
    "    \"edgecolors\": \"black\",\n",
    "#     \"alpha\" :0.0, # all of the node\n",
    "    \"linewidths\": 3,\n",
    "    \"width\": 2,\n",
    "}\n",
    "\n",
    "fig = plt.figure()\n",
    "nx.draw(G, pos, \n",
    "        labels={node: node for node in G.nodes()},\n",
    "        connectionstyle=\"arc3,rad=0.1\",\n",
    "        **options, \n",
    "        bbox=dict(facecolor='red', alpha=0.0, edgecolor='black'), # not working \n",
    "       )\n",
    "\n",
    "edge_labels = nx.get_edge_attributes(G,'label')\n",
    "nx.draw_networkx_edge_labels(G, pos, \n",
    "                             edge_labels = edge_labels,\n",
    "                             alpha=0.9, # does not expose arrows\n",
    "                             bbox=dict(facecolor='red', alpha=0.0, edgecolor='black')\n",
    "#                              connectionstyle=\"arc3,rad=0.1\" #doesn't work to expose arrows\n",
    "                            )\n",
    "nx.draw_networkx_edges(G, pos,\n",
    "                       edgelist=edges,\n",
    "#                        label='lkajsdfkasdlfkjasdlfkj', # doesn't label edges, for legend\n",
    "                      connectionstyle=\"arc3,rad=0.1\" )\n",
    "\n",
    "# Set margins for the axes so that nodes aren't clipped\n",
    "ax = plt.gca()\n",
    "ax.margins(0.20)\n",
    "fig.savefig('images/SIR_compartments.png', transparent=True);\n",
    "plt.axis(\"off\");"
   ]
  },
  {
   "cell_type": "markdown",
   "id": "ce366783",
   "metadata": {},
   "source": [
    "## 1.2) Simple SIR \n",
    "As a simple example of an SIR model, consider the case where \n",
    "- recovered people never become susceptable, which corresponds to the value $c=0$,\n",
    "- no vaccine exists, so susceptable people never become recovered without first becoming infected, which corresponds to $\\alpha = 0$, and \n",
    "- the total population is 1 (which you can think of as $100\\%$, or as 1 million people) and does not change in time. \n",
    "\n",
    "<img src=\"./images/simple_SIR.png\" alt=\"drawing\" width=\"300\"/>\n",
    "\n",
    "Then the time rates of change of the three categories are descibed by the non-linear ordinary differential equaiton"
   ]
  },
  {
   "cell_type": "markdown",
   "id": "9ae8fadf",
   "metadata": {},
   "source": [
    "$$\\frac{d}{dt}\\left( \\begin{array}{c}S \\\\ I \\\\ R  \\end{array} \\right) \n",
    "= \n",
    "\\left( \\begin{array}{c}-aSI \\\\ aSI -bI \\\\ bI   \\end{array} \\right) \n",
    "$$"
   ]
  },
  {
   "cell_type": "markdown",
   "id": "684ad372",
   "metadata": {},
   "source": [
    "Because the sum of the number of people in the three categries is, in our simplifying assumption, 1 million,\n",
    "$$\n",
    "1 =S+I+R \\\\\n",
    "\\Leftrightarrow \n",
    "R = 1-S-I.\n",
    "$$"
   ]
  },
  {
   "cell_type": "markdown",
   "id": "ac55878e",
   "metadata": {},
   "source": [
    "Removing the third row, $R$, since that number can be recovered from $S$ and $I$, yields \n",
    "$$\\frac{d}{dt}\\left( \\begin{array}{c}S \\\\ I  \\end{array} \\right) \n",
    "= \n",
    "\\left( \\begin{array}{c}-aSI \\\\ aSI -bI    \\end{array} \\right) \n",
    "$$\n"
   ]
  },
  {
   "cell_type": "markdown",
   "id": "a13e027a",
   "metadata": {},
   "source": [
    "### 1.2.1 Equilibrium Solutions to Simple Model\n",
    "A common cenceptual checkpoint is to find the so called 'equilibrium solutions' to the differential equation. These are the constant functions that are solutions. Constant means that time rate of change is zero, and thus the equilibrium solutions are the solutions to \n",
    "$$\\frac{d}{dt}\\left( \\begin{array}{c}S \\\\ I  \\end{array} \\right) \n",
    "= \\left( \\begin{array}{c}0 \\\\ 0    \\end{array} \\right) \\\\\n",
    "\\Leftrightarrow \n",
    "\\left( \\begin{array}{c}-aSI \\\\ aSI -bI    \\end{array} \\right) \n",
    "= \\left( \\begin{array}{c}0 \\\\ 0    \\end{array} \\right) \\\\\n",
    "\\Leftrightarrow \n",
    "\\left\\{ \\begin{array}{c}-aSI =0 \\\\ \\rm{and}\\\\ aSI -bI =0    \\end{array} \\right\\} \n",
    "\\Leftrightarrow \n",
    "\\left\\{ \\begin{array}{c}S =0 \\rm{~OR~} I=0 \\\\ \\rm{and}\\\\ aSI = bI     \\end{array} \\right\\} \n",
    "$$\n"
   ]
  },
  {
   "cell_type": "markdown",
   "id": "0987dbec",
   "metadata": {},
   "source": [
    "$$\n",
    "\\Leftrightarrow \n",
    "\\left\\{ \\begin{array}{c}S =0 \\rm{~and~} I=0 \\\\ \\rm{OR}\\\\ I=0 \\rm{~and~} 0 = 0     \\end{array} \\right\\} \n",
    "$$\n"
   ]
  },
  {
   "cell_type": "markdown",
   "id": "025532e7",
   "metadata": {},
   "source": [
    "The first conjunction of equations describes the equilibrium solution \n",
    "$$\n",
    "\\left( \\begin{array}{c}S(t) \\\\ I(t) \\\\ R(t) \\end{array} \\right) \n",
    "= \\left( \\begin{array}{c} 0  \\\\ 0 \\\\  1 \\end{array} \\right),\n",
    "$$\n",
    "an equilibrium state in which all 1 million people in the population have recovered and will never be susceptable or infected again. \n",
    "\n",
    "The second conjunction of equations describes the equilibrium solutions of the form \n",
    "$$\n",
    "\\left( \\begin{array}{c}S(t) \\\\ I(t) \\\\ R(t) \\end{array} \\right) \n",
    "= \\left( \\begin{array}{c} S_0  \\\\ 0 \\\\  1-S_0 \\end{array} \\right),\n",
    "$$\n",
    "which are equilibrium states in which some number $S_0$ of people are susceptable, $1-S_0$ are recovered, but since $0$ people are infected the disease is not spreading and these numbers do not change in time. \n",
    "\n"
   ]
  },
  {
   "cell_type": "markdown",
   "id": "7ad8e8d3",
   "metadata": {},
   "source": [
    "## 1.2.2) Conditions of Decrease in Infections: Herd Immunity"
   ]
  },
  {
   "cell_type": "markdown",
   "id": "ce37992c",
   "metadata": {},
   "source": [
    "In this simplified model, the condition for the number of infections to be decreasing in time \n",
    "$$\n",
    "\\frac{d}{dt} I <0\\\\\n",
    "\\Leftrightarrow\n",
    "aSI-bI <0\\\\\n",
    "\\Leftrightarrow\n",
    "S < \\frac{b}{a}.\n",
    "$$\n",
    "That is, the disease begins to die out when less than $b/a$ people in the population remain susceptable. This is the point known as **herd immunity**.\n",
    "\n",
    "In the following sectoins we will find the expression for heard immunity in the more complicated cases of the SIR model. "
   ]
  },
  {
   "cell_type": "markdown",
   "id": "9b3a21f7",
   "metadata": {},
   "source": [
    "## 1.3) SIR with Deimmunization and No Vaccine\n",
    "If the only SIR model parameter (from $a,b,c,\\alpha$) set to zero is the vaccination rate $\\alpha$ then the modeling differntial equation becomes "
   ]
  },
  {
   "cell_type": "markdown",
   "id": "7e785a0b",
   "metadata": {},
   "source": [
    "$$\\frac{d}{dt}\\left( \\begin{array}{c}S \\\\ I \\\\ R  \\end{array} \\right) \n",
    "= \n",
    "\\left( \\begin{array}{c}-aSI \\color{red}{+cR} \\\\ aSI -bI \\\\ bI \\color{red}{-cR}   \\end{array} \\right) \n",
    "$$\n",
    "\n",
    "and again the her immunity is the condition $\\frac{d}{dt} I < 0 \\Leftrightarrow S <\\frac{b}{a}$.\n",
    "\n",
    "<img src=\"./images/novax_SIR.png\" alt=\"drawing\" width=\"300\"/>\n"
   ]
  },
  {
   "cell_type": "markdown",
   "id": "d101d679-c6cc-47ff-9055-875d6d7bb8e9",
   "metadata": {},
   "source": [
    "Herd immunity is a desirable state. The question for public policy is how to intentianally approach this sufficiently small value of $S$. Thus, we head now toward answering the question \"Quantitatively, how do vaccines hasten heard immunity?\" "
   ]
  },
  {
   "cell_type": "markdown",
   "id": "98bbd3f4-516a-4b0f-b4a6-7a2d22186440",
   "metadata": {},
   "source": [
    "To frame the answer to this question, we examine the differential equation further before including the effect of vaccination in the next section. The first component of the differential equation above reads\n",
    "$$\n",
    "\\frac{d}{dt} S = -aSI +CR\n",
    "$$"
   ]
  },
  {
   "cell_type": "markdown",
   "id": "7bfe95d3-58d5-4a4c-a0e8-1d23d95935e1",
   "metadata": {},
   "source": [
    "and we see a term desribing decreases $-aSI$ and a term describing increase. To head toward herd iimmunity, we want the decreasing term to win.  \n",
    "\n",
    "Since the total population $p=S+I+R \\Leftrightarrow R=p-S-I$, the rate of change of $S$ is also \n",
    "$$\n",
    "\\frac{d}{dt} S = -aSI +C(p-I-S) =  -cS -(aS+c)I +cp\n",
    "$$\n",
    "In the last expression we see a term describing increase ($+cp$) and two terms describing decrease ($-cS -(aS+c)I$). Thus the quantitave question \"What can vaccines do to hasten heard immunity?\" can be framed as \"how does vaccination change the decreasing infection term $-cS -(aS+c)I$?\""
   ]
  },
  {
   "cell_type": "markdown",
   "id": "e8d35342",
   "metadata": {},
   "source": [
    "## 1.4 SIR With Vaccine"
   ]
  },
  {
   "cell_type": "markdown",
   "id": "6907c56f-853d-4ba5-b3ec-29f96bee2dda",
   "metadata": {},
   "source": [
    "Vaccination can be modeled as the compartment model drawn below; note the addition of an edge from $S$ ro $R$ with label $\\alpha R$. "
   ]
  },
  {
   "cell_type": "markdown",
   "id": "b2a7ac29-dfd4-4339-9e3a-3df33aedaaa2",
   "metadata": {},
   "source": [
    "<img src=\"./images/full_SIR.png\" alt=\"drawing\" width=\"400\"/>\n",
    "\n",
    "If a vaccine is administered to $\\alpha$ percent of the susceptable population each unit of time (e.g. $\\alpha=1\\%$ every week) the the differential equation describing the populations becomes"
   ]
  },
  {
   "cell_type": "markdown",
   "id": "89cc4f9d-9b14-477c-aa0d-22ca6a23d803",
   "metadata": {},
   "source": [
    "$$\\frac{d}{dt}\\left( \\begin{array}{c}S \\\\ I \\\\ R  \\end{array} \\right) \n",
    "= \n",
    "\\left( \\begin{array}{c} \\color{red}{-\\alpha S}-aSI+cR \\\\ aSI -bI \\\\ bI-cR   \\end{array} \\right) . \n",
    "$$"
   ]
  },
  {
   "cell_type": "markdown",
   "id": "e5f70795-01ed-4c9b-b388-5b9b02754b56",
   "metadata": {
    "tags": []
   },
   "source": [
    "The condition for herd immunity remains \n",
    "$\\frac{d}{dt} I < 0 \\Leftrightarrow S <\\frac{b}{a}.$\n",
    "However, again impositing the constant population condition $R=p-S-I$, the rate of change of $S$ is \n",
    "$$\n",
    "\\frac{d}{dt} S =   -(c+\\alpha)S -(aS+c)I +cp. \n",
    "$$\n",
    "One sees that  one of the terms desribing a decrease in the susceptable population now desrcibes a more rapid decrease. \n",
    "\n",
    "### $$-(c+\\alpha)S {\\rm ~~ has~replaced~} -cS.$$  \n",
    "\n",
    "In this way, vaccination hastens the approach toward the threshold for herd imunity $S = \\frac{b}{a}$."
   ]
  },
  {
   "cell_type": "markdown",
   "id": "46f77f60",
   "metadata": {},
   "source": [
    "## 1.5) SIR Example with \"Fake Data\"\n"
   ]
  },
  {
   "cell_type": "markdown",
   "id": "c835a8b7-9dd1-417a-b00d-e510dc594fcd",
   "metadata": {},
   "source": [
    "To demonstrate the time evolution of the three populations, the model below uses values that give a nice looking plot. "
   ]
  },
  {
   "cell_type": "code",
   "execution_count": 160,
   "id": "8b8cb37c",
   "metadata": {},
   "outputs": [],
   "source": [
    "import numpy as np\n",
    "import pandas as pd\n",
    "\n",
    "def SIR_sim(S0=.9,\n",
    "            I0=.1,\n",
    "            d = 100, \n",
    "            p = 1, \n",
    "            a = 10**(-3),\n",
    "            b = 10**(-1), \n",
    "            c = 0,\n",
    "            alpha = 0, \n",
    "            dt=1):\n",
    "    \"\"\"Takes initial populations and predicts populations at all later times.\n",
    "    The function is defined with default values to enable group member to play with it.\"\"\"\n",
    "    # Initialize S,I,R\n",
    "    S = pd.Series(data = np.zeros(d,))\n",
    "    I = pd.Series(data = np.zeros(d,))\n",
    "    R = pd.Series(data = np.zeros(d,))\n",
    "    S[0] = S0\n",
    "    I[0] = I0\n",
    "    R[0] = p-S0-I0\n",
    "\n",
    "    # calculate later values from initial values\n",
    "    for t in range(0,d-1):\n",
    "        dS = -a*S[t]*I[t]           * dt #ds/dt = -aSI \n",
    "        dI = (a*S[t]*I[t] - b*I[t]) * dt # dI/dt = aSI-bI\n",
    "        dR = b*I[t]                 * dt \n",
    "        S[t+1] = S[t]+dS\n",
    "        I[t+1] = I[t]+dI\n",
    "        R[t+1] = R[t]+dR\n",
    "\n",
    "    # collect into a data frame\n",
    "    columns_SIR = ['day','S','I','R']\n",
    "    eg = pd.DataFrame(columns = columns_SIR)\n",
    "    eg['day'] = range(d+1)\n",
    "    eg['S'] = S\n",
    "    eg['I'] = I\n",
    "    eg['R'] = R\n",
    "    return eg\n"
   ]
  },
  {
   "cell_type": "code",
   "execution_count": 180,
   "id": "ca30cf10",
   "metadata": {},
   "outputs": [
    {
     "data": {
      "image/png": "[encoded data removed]",
      "text/plain": [
       "<Figure size 432x288 with 1 Axes>"
      ]
     },
     "metadata": {
      "needs_background": "light"
     },
     "output_type": "display_data"
    }
   ],
   "source": [
    "import matplotlib as mpl\n",
    "\n",
    "# run sim with custom values\n",
    "p = 1 # here we use 1 for 100% of the population\n",
    "b = 1/14\n",
    "# a = 0.001*(2.8+b)/p\n",
    "a = 2.8*b/p\n",
    "\n",
    "eg = SIR_sim(d=50,S0=.75,I0=.1,a=a,b=b)\n",
    "import matplotlib.pyplot as plt\n",
    "import seaborn as sns\n",
    "#  e5f3ff , cfe2f3, 3c557d , 23395c, #e27f86\n",
    "fig = plt.figure()\n",
    "plt.plot(eg['day'], eg['S'],label='S', color = '#000000' ) \n",
    "plt.plot(eg['day'], eg['I'], label='I' , color = '#06688e') \n",
    "plt.plot(eg['day'], eg['R'], label ='R', color = 'grey') #black\n",
    "plt.hlines(y=b/a,xmin=0,xmax=50, color ='#000000')\n",
    "plt.text()\n",
    "plt.xlabel('Time')\n",
    "plt.ylabel('Percentage of Population')\n",
    "plt.title('Ideal SIR Model')\n",
    "plt.legend(bbox_to_anchor=(1.02, 1), loc='upper left',)\n",
    "plt.tight_layout()\n",
    "fig.savefig('images/ideal_SIR.png', transparent=True);\n"
   ]
  },
  {
   "cell_type": "markdown",
   "id": "9426d4bf",
   "metadata": {},
   "source": [
    "# 2) Realistic values of parameters $a$ and $b$"
   ]
  },
  {
   "cell_type": "markdown",
   "id": "03489b6c-325c-4240-93b9-b46e52bc3ca1",
   "metadata": {},
   "source": [
    "To model real COVID infections in populations we need real values of the parameters that descibe COVID. "
   ]
  },
  {
   "cell_type": "markdown",
   "id": "65a18e03",
   "metadata": {},
   "source": [
    "## 2.1) Toward Realistic $b$"
   ]
  },
  {
   "cell_type": "markdown",
   "id": "9909dab9-200f-4846-b629-e7af2685574c",
   "metadata": {},
   "source": [
    "In SIR models, the term $-bI$ in the differential equation\n",
    "$$\n",
    "\\frac{dI}{dt} =  aSI - bI,\n",
    "$$ \n",
    "describes the rate at which infected people move into the recovered compartment. It is common knowledge that a case of COVID lasts about two weeks, or 14 days. \n",
    "For this reason we use \n",
    "# $$b =\\frac{1}{14{\\rm days}}.$$"
   ]
  },
  {
   "cell_type": "markdown",
   "id": "c92fd972-0832-4d3e-856b-5d0d579ca8f3",
   "metadata": {},
   "source": [
    "As an example of why this is an intuitive value, if $b =\\frac{1}{14{\\rm days}} \\rm{~ and~~} I=14{\\rm ~people}$ \n",
    "then the number of people who recover in a day is \n",
    "$bI = 1 \\frac{\\rm person}{\\rm day}.$"
   ]
  },
  {
   "cell_type": "markdown",
   "id": "acce77c3",
   "metadata": {},
   "source": [
    "## 2.2) Toward realistic $a$"
   ]
  },
  {
   "cell_type": "markdown",
   "id": "ccbf9aec-bf3a-40cc-8dfc-48531ff2c5a4",
   "metadata": {},
   "source": [
    "Our determination of a realistic value for $a$ takes more thought than for $b$. "
   ]
  },
  {
   "cell_type": "markdown",
   "id": "c0b06f32",
   "metadata": {},
   "source": [
    "### 2.2.1) Introducing Reproductive Number Through Exponential Models "
   ]
  },
  {
   "cell_type": "markdown",
   "id": "949b31e9",
   "metadata": {},
   "source": [
    "SIR models are improvements upon expontial models in that \n",
    "- exponential models treat the susceptable population as infinitely large, \n",
    "- SIR models take into account that the susceptable population is finite and changes size. \n",
    "\n",
    "In an exponential growth model of disease transmission each infected person, over the duration of their infection, infects some number of susceptable people. This number is called **the reproductive number** of the disease. \n",
    "\n",
    "**If the reproductive number of a disease is less than 1 then the disease will die out.** \n",
    "\n",
    "To make this idea quantitative, let $b$ be the recovery rate (so $1/b$ is the durration of disease) and number $r_0$ be the reproductive number of a disease. \n",
    "The differential below above is then interpreted as \"each day each infected person infects $r_0 b$ other people.\"\n",
    "\n",
    "$$\\frac{dI}{dt} = r_0 b  I.$$\n"
   ]
  },
  {
   "cell_type": "markdown",
   "id": "00510628",
   "metadata": {},
   "source": [
    "This is called an exponential model because the solutions ($I$ as a function of time $t$) are the exponential functions of the form\n",
    "$$I(t) = I_0(r_0b)^t$$\n",
    "with $I(0)$ the number of infections when $t=0$. \n",
    "Changing base to Euler's number ($e$) the functions are\n",
    "$$I(t) = I_0e^{\\ln(r_0 b)t}.$$\n",
    "\n",
    "The doubling time for the infection is $t_d$ such that $e^{\\log(r_0 b)t_d}=2 \\Rightarrow t_d = \\ln(2)/\\ln(r_0b).$"
   ]
  },
  {
   "cell_type": "markdown",
   "id": "2a72d646",
   "metadata": {},
   "source": [
    "### 2.2.2) Reproductive number in SIR Models"
   ]
  },
  {
   "cell_type": "markdown",
   "id": "d81b31d4",
   "metadata": {},
   "source": [
    "SIR models have a similar feature, the reproductive number, but the value changes in time. \n",
    "\n",
    "Recall that in SIR models \n",
    "$$\\frac{dI}{dt} =  aSI - bI$$ \n",
    "The first term is the number of new infections per time. Compare that term to the analagous term in exponential growth models;\n",
    "$$ aSI \\sim r_0bI.$$\n",
    "The dynamics of the two terms are different; the product $aS$ changes in time while $r_0b$ does not change in time. As a result, the exponential model grows exponentially without end, but the SIR models infections peak and then decay to 0. \n",
    "\n",
    "Intuitively, when almost all of the population is susceptable $S\\approx p$, the growth rate of $I$ is exponential. The similarity then takes on the form \n",
    "$$ aPI \\sim r_0bI \\\\\n",
    "\\Leftrightarrow \n",
    "r_0 = p\\frac{a}{b}.$$\n",
    "This is the reproductive number of an SIR model in terms of the transmission rate $a$, recovery rate $b$, and population $p$. \n",
    "The <a href=\"https://www.omnicalculator.com/health/viral-infection-sir\">measured value of $r_0$ for COVID </a>  is approxinately $2.8$.\n",
    "This demands that the transmission rate of covid be \n",
    "# $$a =\\frac{2.8 b}{p} = \\frac{0.1}{p}.$$"
   ]
  },
  {
   "cell_type": "markdown",
   "id": "90d702d0",
   "metadata": {},
   "source": [
    "### 2.2.3) Effective Reproductive Rate and Herd Immunity From Another Argument"
   ]
  },
  {
   "cell_type": "markdown",
   "id": "060db16b",
   "metadata": {},
   "source": [
    "When $S$ changes to below $p$ as the infectionstarts to spread, the reproductive rate becomes an effective reproductive rate"
   ]
  },
  {
   "cell_type": "markdown",
   "id": "71802be0",
   "metadata": {},
   "source": [
    "$$\n",
    "r_{{\\rm eff}} = S\\frac{a}{b}.\n",
    "$$"
   ]
  },
  {
   "cell_type": "markdown",
   "id": "67637adb",
   "metadata": {},
   "source": [
    "The condition that the disease starts to die out \n",
    "$$\n",
    "r_{\\rm eff}<1 \\Leftrightarrow S\\lt  \\frac{b}{a}\n",
    "$$\n",
    "as presented through different means in section 1 above. "
   ]
  },
  {
   "cell_type": "markdown",
   "id": "bc9190bb-c562-4749-95c8-28b44def0f2f",
   "metadata": {},
   "source": [
    "### 2.4) Toward Realistic $c$ "
   ]
  },
  {
   "cell_type": "markdown",
   "id": "e4c7cbaa-8e25-478c-965a-69ef33b975b3",
   "metadata": {},
   "source": [
    "Estimates of how long immunity to COVID lasts have been the subject of considerable research, bebate, and disagreement. We use the order of magnitude estimate of immunity lasting for about 100 days, inline with \n",
    "<a href=\"https://www.cnn.com/2021/10/06/health/pfizer-vaccine-waning-immunity/index.html\">the estimate of three months.</a> That is, we use \n",
    "# $$ c = \\frac{1}{100 {\\rm\\,days}}.$$"
   ]
  },
  {
   "cell_type": "markdown",
   "id": "815c825a-36f3-4692-beb9-f9c2e74274ed",
   "metadata": {},
   "source": [
    "### 2.5) Toward Realistic $p$"
   ]
  },
  {
   "cell_type": "markdown",
   "id": "a2a1f33b-e8b6-4e71-99cd-5b621725240f",
   "metadata": {},
   "source": [
    "We will use the following number for the population of each US state and Washington DC obtained from April 1st, 2020 census column in the <a href=\"https://en.wikipedia.org/wiki/List_of_U.S._states_and_territories_by_population\">wikipedia page for US states listed by popoulation.</a>"
   ]
  },
  {
   "cell_type": "code",
   "execution_count": 152,
   "id": "b541497d-5839-4097-9624-becb783cab04",
   "metadata": {},
   "outputs": [],
   "source": [
    "populations = { 'AK':733391,'AL':5024279, 'AR':3011524, 'AZ':7_151_502, \n",
    "               'CA': 39_538_223, 'CO':5773714, 'CT':3605944, 'DC':689545, \n",
    "               'DE':989948, 'FL':21_538_187, 'GA':10_711_908,\n",
    "               #            'HI', \n",
    "               'IA':3190369, 'ID':1839106, 'IL':12_812_508, 'IN':6785528, 'KS':2937880, \n",
    "               'KY':4505836, 'LA':4657757,'MA':7_029_917,'MD':6177224, \n",
    "               'ME':1362359,'MI':10_077_331,'MN':5706494,'MO':6154913, \n",
    "               'MS':2961279,'MT':1084225, 'NC':10_439_388, \n",
    "               'ND':779094, 'NE':1961504, 'NH':1377529,'NJ':9_288_994, \n",
    "               'NM':2117522,'NV':3104614, 'NY':20_201_249,'OH':11_799_448, \n",
    "               'OK':3959353, 'OR':4237256,'PA':13_002_700,'RI':1097379, \n",
    "               'SC':5118425, 'SD':886667, 'TN':6910840, 'TX':29_145_505,\n",
    "               'UT':3271616, 'VA':8_631_393, 'VT':643077,'WA':7_705_281, \n",
    "               'WI':5893718, 'WV':1793716,'WY':576851}"
   ]
  },
  {
   "cell_type": "markdown",
   "id": "24a50d2c-fedd-47a2-bdf9-8a94732dbd14",
   "metadata": {},
   "source": [
    "### 2.6) Conclusion: Realistic Values of Parameters  $𝑎$ ,  $𝑏$, $c$ , and $p$"
   ]
  },
  {
   "cell_type": "markdown",
   "id": "dc2e2426",
   "metadata": {},
   "source": [
    "We conclude that, with units included,  \n",
    "\n",
    "# $$b=\\frac{1}{14}\\frac{\\rm ppl}{\\rm day},~~~~a  = \\frac{0.2}{p \\rm \\, days},~~~~c = \\frac{1}{100 \\rm \\, days}$$\n",
    "\n",
    "and that $p$ will vary between the state populations we model."
   ]
  },
  {
   "cell_type": "markdown",
   "id": "a098967c-6dd3-48a9-b786-0224b6664b38",
   "metadata": {},
   "source": [
    "# 3)  One dataset with all states' daily infection and vaccination numbers.\n"
   ]
  },
  {
   "cell_type": "markdown",
   "id": "95120127-66f5-4856-8ae5-2bbdb162567f",
   "metadata": {},
   "source": [
    "## 3.1) All States Infection Numbers"
   ]
  },
  {
   "cell_type": "markdown",
   "id": "8d9076a4-bdff-42fd-a7fe-8a161ce0c470",
   "metadata": {},
   "source": [
    "###### In order to have data on the number of infected people in time, we have available\n",
    "- the cumulative number of people that have had covid, `tot_cases`\n",
    "- the number of new cases in a day `new_case`.\n",
    "\n",
    "Two equivalent methods of obtaining a proxy of the number of people infected:\n",
    "- `df['tot_cases'].diff(14)` which is the cumulative number of cases today minus cumulative number of ases 14 days ago, thereby giving all current cases\n",
    "- `df['new_case'].rollling(14).sum()` which is the sum of the new cases for the previous 14 day, and thus the number of current cases.\n",
    "\n",
    "With either strategy, the number of cases for the first 14 days needcs to be approximated. I have chosen the numbers to be approximated the number of infections on the 14th day of the data set. \n"
   ]
  },
  {
   "cell_type": "code",
   "execution_count": 153,
   "id": "a10beae2",
   "metadata": {},
   "outputs": [],
   "source": [
    "# Afolabi's all state total cases:\n",
    "df = pd.read_csv('../data/afolabi/all_states_raw.csv')\n",
    "df.head()\n",
    "\n",
    "df['submission_date'] = pd.to_datetime(df['submission_date'])\n",
    "df['tot_cases'] = df['tot_cases'].astype(float)\n",
    "#create a data frame for infections\n",
    "#create an index list for days by picking off one state: \n",
    "days = (df[df['state'] == 'AK']).sort_values(by='submission_date')['submission_date'].values"
   ]
  },
  {
   "cell_type": "code",
   "execution_count": 154,
   "id": "08acd4cb",
   "metadata": {},
   "outputs": [],
   "source": [
    "# create a data frame with those days as the index\n",
    "# data for one state at a time will be added. \n",
    "infected = pd.DataFrame(index = days)"
   ]
  },
  {
   "cell_type": "code",
   "execution_count": 155,
   "id": "497e0c60",
   "metadata": {},
   "outputs": [
    {
     "data": {
      "text/html": [
       "<div>\n",
       "<style scoped>\n",
       "    .dataframe tbody tr th:only-of-type {\n",
       "        vertical-align: middle;\n",
       "    }\n",
       "\n",
       "    .dataframe tbody tr th {\n",
       "        vertical-align: top;\n",
       "    }\n",
       "\n",
       "    .dataframe thead th {\n",
       "        text-align: right;\n",
       "    }\n",
       "</style>\n",
       "<table border=\"1\" class=\"dataframe\">\n",
       "  <thead>\n",
       "    <tr style=\"text-align: right;\">\n",
       "      <th></th>\n",
       "      <th>AK_I</th>\n",
       "    </tr>\n",
       "  </thead>\n",
       "  <tbody>\n",
       "    <tr>\n",
       "      <th>2020-03-16</th>\n",
       "      <td>1.0</td>\n",
       "    </tr>\n",
       "    <tr>\n",
       "      <th>2020-03-17</th>\n",
       "      <td>3.0</td>\n",
       "    </tr>\n",
       "  </tbody>\n",
       "</table>\n",
       "</div>"
      ],
      "text/plain": [
       "            AK_I\n",
       "2020-03-16   1.0\n",
       "2020-03-17   3.0"
      ]
     },
     "execution_count": 155,
     "metadata": {},
     "output_type": "execute_result"
    }
   ],
   "source": [
    "#try adding a column for one state\n",
    "state = 'AK'\n",
    "infected[f'{state}_I'] =  list((df[df['state'] == state]).sort_values(by='submission_date')['tot_cases'].diff(14))\n",
    "infected[f'{state}_I'][0:14] = infected[f'{state}_I'][14].copy()\n",
    "infected[53:55] # take a peek... looks good."
   ]
  },
  {
   "cell_type": "code",
   "execution_count": 156,
   "id": "cb9536a1",
   "metadata": {},
   "outputs": [
    {
     "data": {
      "text/plain": [
       "0"
      ]
     },
     "execution_count": 156,
     "metadata": {},
     "output_type": "execute_result"
    }
   ],
   "source": [
    "# Do this for all states except Hawaii, because HI's vax data is problematic\n",
    "states = [ 'AK', 'AL', 'AR', 'AZ', 'CA', 'CO', 'CT', 'DC', 'DE', 'FL', 'GA',\n",
    "            # 'HI', \n",
    "          'IA', 'ID', 'IL', 'IN', 'KS', 'KY', 'LA', 'MA', 'MD', 'ME',\n",
    "           'MI', 'MN', 'MO', 'MS', 'MT', 'NC', 'ND', 'NE', 'NH', 'NJ', 'NM',\n",
    "           'NV', 'NY', 'OH', 'OK', 'OR', 'PA', 'RI', 'SC', 'SD', 'TN', 'TX',\n",
    "           'UT', 'VA', 'VT', 'WA', 'WI', 'WV', 'WY']\n",
    "for state in states:\n",
    "    # print(f'trying {state}')\n",
    "    infected[f'{state}_I'] =  list((df[df['state'] == state]).sort_values(by='submission_date')['tot_cases'].diff(14))\n",
    "    infected[f'{state}_I'][0:14] = infected[f'{state}_I'][15].copy()\n",
    "infected.isnull().sum().sum()"
   ]
  },
  {
   "cell_type": "code",
   "execution_count": 157,
   "id": "567e977a",
   "metadata": {},
   "outputs": [],
   "source": [
    "infected.to_csv('../data/infected_all_states.csv')"
   ]
  },
  {
   "cell_type": "markdown",
   "id": "4fc154d9-ab73-4ca3-a042-b07a011400c4",
   "metadata": {},
   "source": [
    "# 3.2) Daily Vaccination Numbers for All States"
   ]
  },
  {
   "cell_type": "markdown",
   "id": "3cb8e9bf-2ad9-4fb1-a00d-c77bf93e1c74",
   "metadata": {},
   "source": [
    "We pull from the cdc's api `data.cdc.gov/resource/8xkx-amqh.json` the following columns: \n",
    "- Date\n",
    "- Recip_State,\n",
    "- Recip_County,\n",
    "- Series_Complete_Yes (the number of people who complete a vaccine series on that day)"
   ]
  },
  {
   "cell_type": "code",
   "execution_count": 158,
   "id": "2e778a5a-ef9f-409b-8426-2410fc22ef22",
   "metadata": {},
   "outputs": [
    {
     "ename": "KeyboardInterrupt",
     "evalue": "",
     "output_type": "error",
     "traceback": [
      "\u001b[0;31m---------------------------------------------------------------------------\u001b[0m",
      "\u001b[0;31mKeyboardInterrupt\u001b[0m                         Traceback (most recent call last)",
      "\u001b[0;32m/var/folders/kl/2yh74fss7jj3r6_9sk1_4fmm0000gn/T/ipykernel_27804/1233823165.py\u001b[0m in \u001b[0;36m<module>\u001b[0;34m\u001b[0m\n\u001b[1;32m     15\u001b[0m     \u001b[0murl_vax\u001b[0m \u001b[0;34m=\u001b[0m \u001b[0;34mf'https://data.cdc.gov/resource/8xkx-amqh.json?$select=Date,Recip_State,Recip_County,Series_Complete_Yes&$where=Date%3E=%222020-12-01%22AND%20Date%3C%222022-03-21%22AND%20Recip_State=%27{state}%27&$limit=105000&$offset=0'\u001b[0m\u001b[0;34m\u001b[0m\u001b[0;34m\u001b[0m\u001b[0m\n\u001b[1;32m     16\u001b[0m     \u001b[0;31m# print(f'trying {state}')\u001b[0m\u001b[0;34m\u001b[0m\u001b[0;34m\u001b[0m\u001b[0m\n\u001b[0;32m---> 17\u001b[0;31m     \u001b[0mres_vax\u001b[0m \u001b[0;34m=\u001b[0m \u001b[0mrequests\u001b[0m\u001b[0;34m.\u001b[0m\u001b[0mget\u001b[0m\u001b[0;34m(\u001b[0m\u001b[0murl_vax\u001b[0m\u001b[0;34m)\u001b[0m\u001b[0;34m\u001b[0m\u001b[0;34m\u001b[0m\u001b[0m\n\u001b[0m\u001b[1;32m     18\u001b[0m     \u001b[0;32mif\u001b[0m \u001b[0mres_vax\u001b[0m\u001b[0;34m.\u001b[0m\u001b[0mstatus_code\u001b[0m \u001b[0;34m!=\u001b[0m\u001b[0;36m200\u001b[0m\u001b[0;34m:\u001b[0m\u001b[0;34m\u001b[0m\u001b[0;34m\u001b[0m\u001b[0m\n\u001b[1;32m     19\u001b[0m         \u001b[0mprint\u001b[0m\u001b[0;34m(\u001b[0m\u001b[0;34mf'Status not ok for {state}'\u001b[0m\u001b[0;34m)\u001b[0m\u001b[0;34m\u001b[0m\u001b[0;34m\u001b[0m\u001b[0m\n",
      "\u001b[0;32m~/opt/anaconda3/lib/python3.9/site-packages/requests/api.py\u001b[0m in \u001b[0;36mget\u001b[0;34m(url, params, **kwargs)\u001b[0m\n\u001b[1;32m     73\u001b[0m     \"\"\"\n\u001b[1;32m     74\u001b[0m \u001b[0;34m\u001b[0m\u001b[0m\n\u001b[0;32m---> 75\u001b[0;31m     \u001b[0;32mreturn\u001b[0m \u001b[0mrequest\u001b[0m\u001b[0;34m(\u001b[0m\u001b[0;34m'get'\u001b[0m\u001b[0;34m,\u001b[0m \u001b[0murl\u001b[0m\u001b[0;34m,\u001b[0m \u001b[0mparams\u001b[0m\u001b[0;34m=\u001b[0m\u001b[0mparams\u001b[0m\u001b[0;34m,\u001b[0m \u001b[0;34m**\u001b[0m\u001b[0mkwargs\u001b[0m\u001b[0;34m)\u001b[0m\u001b[0;34m\u001b[0m\u001b[0;34m\u001b[0m\u001b[0m\n\u001b[0m\u001b[1;32m     76\u001b[0m \u001b[0;34m\u001b[0m\u001b[0m\n\u001b[1;32m     77\u001b[0m \u001b[0;34m\u001b[0m\u001b[0m\n",
      "\u001b[0;32m~/opt/anaconda3/lib/python3.9/site-packages/requests/api.py\u001b[0m in \u001b[0;36mrequest\u001b[0;34m(method, url, **kwargs)\u001b[0m\n\u001b[1;32m     59\u001b[0m     \u001b[0;31m# cases, and look like a memory leak in others.\u001b[0m\u001b[0;34m\u001b[0m\u001b[0;34m\u001b[0m\u001b[0m\n\u001b[1;32m     60\u001b[0m     \u001b[0;32mwith\u001b[0m \u001b[0msessions\u001b[0m\u001b[0;34m.\u001b[0m\u001b[0mSession\u001b[0m\u001b[0;34m(\u001b[0m\u001b[0;34m)\u001b[0m \u001b[0;32mas\u001b[0m \u001b[0msession\u001b[0m\u001b[0;34m:\u001b[0m\u001b[0;34m\u001b[0m\u001b[0;34m\u001b[0m\u001b[0m\n\u001b[0;32m---> 61\u001b[0;31m         \u001b[0;32mreturn\u001b[0m \u001b[0msession\u001b[0m\u001b[0;34m.\u001b[0m\u001b[0mrequest\u001b[0m\u001b[0;34m(\u001b[0m\u001b[0mmethod\u001b[0m\u001b[0;34m=\u001b[0m\u001b[0mmethod\u001b[0m\u001b[0;34m,\u001b[0m \u001b[0murl\u001b[0m\u001b[0;34m=\u001b[0m\u001b[0murl\u001b[0m\u001b[0;34m,\u001b[0m \u001b[0;34m**\u001b[0m\u001b[0mkwargs\u001b[0m\u001b[0;34m)\u001b[0m\u001b[0;34m\u001b[0m\u001b[0;34m\u001b[0m\u001b[0m\n\u001b[0m\u001b[1;32m     62\u001b[0m \u001b[0;34m\u001b[0m\u001b[0m\n\u001b[1;32m     63\u001b[0m \u001b[0;34m\u001b[0m\u001b[0m\n",
      "\u001b[0;32m~/opt/anaconda3/lib/python3.9/site-packages/requests/sessions.py\u001b[0m in \u001b[0;36mrequest\u001b[0;34m(self, method, url, params, data, headers, cookies, files, auth, timeout, allow_redirects, proxies, hooks, stream, verify, cert, json)\u001b[0m\n\u001b[1;32m    540\u001b[0m         }\n\u001b[1;32m    541\u001b[0m         \u001b[0msend_kwargs\u001b[0m\u001b[0;34m.\u001b[0m\u001b[0mupdate\u001b[0m\u001b[0;34m(\u001b[0m\u001b[0msettings\u001b[0m\u001b[0;34m)\u001b[0m\u001b[0;34m\u001b[0m\u001b[0;34m\u001b[0m\u001b[0m\n\u001b[0;32m--> 542\u001b[0;31m         \u001b[0mresp\u001b[0m \u001b[0;34m=\u001b[0m \u001b[0mself\u001b[0m\u001b[0;34m.\u001b[0m\u001b[0msend\u001b[0m\u001b[0;34m(\u001b[0m\u001b[0mprep\u001b[0m\u001b[0;34m,\u001b[0m \u001b[0;34m**\u001b[0m\u001b[0msend_kwargs\u001b[0m\u001b[0;34m)\u001b[0m\u001b[0;34m\u001b[0m\u001b[0;34m\u001b[0m\u001b[0m\n\u001b[0m\u001b[1;32m    543\u001b[0m \u001b[0;34m\u001b[0m\u001b[0m\n\u001b[1;32m    544\u001b[0m         \u001b[0;32mreturn\u001b[0m \u001b[0mresp\u001b[0m\u001b[0;34m\u001b[0m\u001b[0;34m\u001b[0m\u001b[0m\n",
      "\u001b[0;32m~/opt/anaconda3/lib/python3.9/site-packages/requests/sessions.py\u001b[0m in \u001b[0;36msend\u001b[0;34m(self, request, **kwargs)\u001b[0m\n\u001b[1;32m    653\u001b[0m \u001b[0;34m\u001b[0m\u001b[0m\n\u001b[1;32m    654\u001b[0m         \u001b[0;31m# Send the request\u001b[0m\u001b[0;34m\u001b[0m\u001b[0;34m\u001b[0m\u001b[0m\n\u001b[0;32m--> 655\u001b[0;31m         \u001b[0mr\u001b[0m \u001b[0;34m=\u001b[0m \u001b[0madapter\u001b[0m\u001b[0;34m.\u001b[0m\u001b[0msend\u001b[0m\u001b[0;34m(\u001b[0m\u001b[0mrequest\u001b[0m\u001b[0;34m,\u001b[0m \u001b[0;34m**\u001b[0m\u001b[0mkwargs\u001b[0m\u001b[0;34m)\u001b[0m\u001b[0;34m\u001b[0m\u001b[0;34m\u001b[0m\u001b[0m\n\u001b[0m\u001b[1;32m    656\u001b[0m \u001b[0;34m\u001b[0m\u001b[0m\n\u001b[1;32m    657\u001b[0m         \u001b[0;31m# Total elapsed time of the request (approximately)\u001b[0m\u001b[0;34m\u001b[0m\u001b[0;34m\u001b[0m\u001b[0m\n",
      "\u001b[0;32m~/opt/anaconda3/lib/python3.9/site-packages/requests/adapters.py\u001b[0m in \u001b[0;36msend\u001b[0;34m(self, request, stream, timeout, verify, cert, proxies)\u001b[0m\n\u001b[1;32m    437\u001b[0m         \u001b[0;32mtry\u001b[0m\u001b[0;34m:\u001b[0m\u001b[0;34m\u001b[0m\u001b[0;34m\u001b[0m\u001b[0m\n\u001b[1;32m    438\u001b[0m             \u001b[0;32mif\u001b[0m \u001b[0;32mnot\u001b[0m \u001b[0mchunked\u001b[0m\u001b[0;34m:\u001b[0m\u001b[0;34m\u001b[0m\u001b[0;34m\u001b[0m\u001b[0m\n\u001b[0;32m--> 439\u001b[0;31m                 resp = conn.urlopen(\n\u001b[0m\u001b[1;32m    440\u001b[0m                     \u001b[0mmethod\u001b[0m\u001b[0;34m=\u001b[0m\u001b[0mrequest\u001b[0m\u001b[0;34m.\u001b[0m\u001b[0mmethod\u001b[0m\u001b[0;34m,\u001b[0m\u001b[0;34m\u001b[0m\u001b[0;34m\u001b[0m\u001b[0m\n\u001b[1;32m    441\u001b[0m                     \u001b[0murl\u001b[0m\u001b[0;34m=\u001b[0m\u001b[0murl\u001b[0m\u001b[0;34m,\u001b[0m\u001b[0;34m\u001b[0m\u001b[0;34m\u001b[0m\u001b[0m\n",
      "\u001b[0;32m~/opt/anaconda3/lib/python3.9/site-packages/urllib3/connectionpool.py\u001b[0m in \u001b[0;36murlopen\u001b[0;34m(self, method, url, body, headers, retries, redirect, assert_same_host, timeout, pool_timeout, release_conn, chunked, body_pos, **response_kw)\u001b[0m\n\u001b[1;32m    697\u001b[0m \u001b[0;34m\u001b[0m\u001b[0m\n\u001b[1;32m    698\u001b[0m             \u001b[0;31m# Make the request on the httplib connection object.\u001b[0m\u001b[0;34m\u001b[0m\u001b[0;34m\u001b[0m\u001b[0m\n\u001b[0;32m--> 699\u001b[0;31m             httplib_response = self._make_request(\n\u001b[0m\u001b[1;32m    700\u001b[0m                 \u001b[0mconn\u001b[0m\u001b[0;34m,\u001b[0m\u001b[0;34m\u001b[0m\u001b[0;34m\u001b[0m\u001b[0m\n\u001b[1;32m    701\u001b[0m                 \u001b[0mmethod\u001b[0m\u001b[0;34m,\u001b[0m\u001b[0;34m\u001b[0m\u001b[0;34m\u001b[0m\u001b[0m\n",
      "\u001b[0;32m~/opt/anaconda3/lib/python3.9/site-packages/urllib3/connectionpool.py\u001b[0m in \u001b[0;36m_make_request\u001b[0;34m(self, conn, method, url, timeout, chunked, **httplib_request_kw)\u001b[0m\n\u001b[1;32m    380\u001b[0m         \u001b[0;31m# Trigger any extra validation we need to do.\u001b[0m\u001b[0;34m\u001b[0m\u001b[0;34m\u001b[0m\u001b[0m\n\u001b[1;32m    381\u001b[0m         \u001b[0;32mtry\u001b[0m\u001b[0;34m:\u001b[0m\u001b[0;34m\u001b[0m\u001b[0;34m\u001b[0m\u001b[0m\n\u001b[0;32m--> 382\u001b[0;31m             \u001b[0mself\u001b[0m\u001b[0;34m.\u001b[0m\u001b[0m_validate_conn\u001b[0m\u001b[0;34m(\u001b[0m\u001b[0mconn\u001b[0m\u001b[0;34m)\u001b[0m\u001b[0;34m\u001b[0m\u001b[0;34m\u001b[0m\u001b[0m\n\u001b[0m\u001b[1;32m    383\u001b[0m         \u001b[0;32mexcept\u001b[0m \u001b[0;34m(\u001b[0m\u001b[0mSocketTimeout\u001b[0m\u001b[0;34m,\u001b[0m \u001b[0mBaseSSLError\u001b[0m\u001b[0;34m)\u001b[0m \u001b[0;32mas\u001b[0m \u001b[0me\u001b[0m\u001b[0;34m:\u001b[0m\u001b[0;34m\u001b[0m\u001b[0;34m\u001b[0m\u001b[0m\n\u001b[1;32m    384\u001b[0m             \u001b[0;31m# Py2 raises this as a BaseSSLError, Py3 raises it as socket timeout.\u001b[0m\u001b[0;34m\u001b[0m\u001b[0;34m\u001b[0m\u001b[0m\n",
      "\u001b[0;32m~/opt/anaconda3/lib/python3.9/site-packages/urllib3/connectionpool.py\u001b[0m in \u001b[0;36m_validate_conn\u001b[0;34m(self, conn)\u001b[0m\n\u001b[1;32m   1008\u001b[0m         \u001b[0;31m# Force connect early to allow us to validate the connection.\u001b[0m\u001b[0;34m\u001b[0m\u001b[0;34m\u001b[0m\u001b[0m\n\u001b[1;32m   1009\u001b[0m         \u001b[0;32mif\u001b[0m \u001b[0;32mnot\u001b[0m \u001b[0mgetattr\u001b[0m\u001b[0;34m(\u001b[0m\u001b[0mconn\u001b[0m\u001b[0;34m,\u001b[0m \u001b[0;34m\"sock\"\u001b[0m\u001b[0;34m,\u001b[0m \u001b[0;32mNone\u001b[0m\u001b[0;34m)\u001b[0m\u001b[0;34m:\u001b[0m  \u001b[0;31m# AppEngine might not have  `.sock`\u001b[0m\u001b[0;34m\u001b[0m\u001b[0;34m\u001b[0m\u001b[0m\n\u001b[0;32m-> 1010\u001b[0;31m             \u001b[0mconn\u001b[0m\u001b[0;34m.\u001b[0m\u001b[0mconnect\u001b[0m\u001b[0;34m(\u001b[0m\u001b[0;34m)\u001b[0m\u001b[0;34m\u001b[0m\u001b[0;34m\u001b[0m\u001b[0m\n\u001b[0m\u001b[1;32m   1011\u001b[0m \u001b[0;34m\u001b[0m\u001b[0m\n\u001b[1;32m   1012\u001b[0m         \u001b[0;32mif\u001b[0m \u001b[0;32mnot\u001b[0m \u001b[0mconn\u001b[0m\u001b[0;34m.\u001b[0m\u001b[0mis_verified\u001b[0m\u001b[0;34m:\u001b[0m\u001b[0;34m\u001b[0m\u001b[0;34m\u001b[0m\u001b[0m\n",
      "\u001b[0;32m~/opt/anaconda3/lib/python3.9/site-packages/urllib3/connection.py\u001b[0m in \u001b[0;36mconnect\u001b[0;34m(self)\u001b[0m\n\u001b[1;32m    414\u001b[0m             \u001b[0mcontext\u001b[0m\u001b[0;34m.\u001b[0m\u001b[0mload_default_certs\u001b[0m\u001b[0;34m(\u001b[0m\u001b[0;34m)\u001b[0m\u001b[0;34m\u001b[0m\u001b[0;34m\u001b[0m\u001b[0m\n\u001b[1;32m    415\u001b[0m \u001b[0;34m\u001b[0m\u001b[0m\n\u001b[0;32m--> 416\u001b[0;31m         self.sock = ssl_wrap_socket(\n\u001b[0m\u001b[1;32m    417\u001b[0m             \u001b[0msock\u001b[0m\u001b[0;34m=\u001b[0m\u001b[0mconn\u001b[0m\u001b[0;34m,\u001b[0m\u001b[0;34m\u001b[0m\u001b[0;34m\u001b[0m\u001b[0m\n\u001b[1;32m    418\u001b[0m             \u001b[0mkeyfile\u001b[0m\u001b[0;34m=\u001b[0m\u001b[0mself\u001b[0m\u001b[0;34m.\u001b[0m\u001b[0mkey_file\u001b[0m\u001b[0;34m,\u001b[0m\u001b[0;34m\u001b[0m\u001b[0;34m\u001b[0m\u001b[0m\n",
      "\u001b[0;32m~/opt/anaconda3/lib/python3.9/site-packages/urllib3/util/ssl_.py\u001b[0m in \u001b[0;36mssl_wrap_socket\u001b[0;34m(sock, keyfile, certfile, cert_reqs, ca_certs, server_hostname, ssl_version, ciphers, ssl_context, ca_cert_dir, key_password, ca_cert_data, tls_in_tls)\u001b[0m\n\u001b[1;32m    447\u001b[0m \u001b[0;34m\u001b[0m\u001b[0m\n\u001b[1;32m    448\u001b[0m     \u001b[0;32mif\u001b[0m \u001b[0msend_sni\u001b[0m\u001b[0;34m:\u001b[0m\u001b[0;34m\u001b[0m\u001b[0;34m\u001b[0m\u001b[0m\n\u001b[0;32m--> 449\u001b[0;31m         ssl_sock = _ssl_wrap_socket_impl(\n\u001b[0m\u001b[1;32m    450\u001b[0m             \u001b[0msock\u001b[0m\u001b[0;34m,\u001b[0m \u001b[0mcontext\u001b[0m\u001b[0;34m,\u001b[0m \u001b[0mtls_in_tls\u001b[0m\u001b[0;34m,\u001b[0m \u001b[0mserver_hostname\u001b[0m\u001b[0;34m=\u001b[0m\u001b[0mserver_hostname\u001b[0m\u001b[0;34m\u001b[0m\u001b[0;34m\u001b[0m\u001b[0m\n\u001b[1;32m    451\u001b[0m         )\n",
      "\u001b[0;32m~/opt/anaconda3/lib/python3.9/site-packages/urllib3/util/ssl_.py\u001b[0m in \u001b[0;36m_ssl_wrap_socket_impl\u001b[0;34m(sock, ssl_context, tls_in_tls, server_hostname)\u001b[0m\n\u001b[1;32m    491\u001b[0m \u001b[0;34m\u001b[0m\u001b[0m\n\u001b[1;32m    492\u001b[0m     \u001b[0;32mif\u001b[0m \u001b[0mserver_hostname\u001b[0m\u001b[0;34m:\u001b[0m\u001b[0;34m\u001b[0m\u001b[0;34m\u001b[0m\u001b[0m\n\u001b[0;32m--> 493\u001b[0;31m         \u001b[0;32mreturn\u001b[0m \u001b[0mssl_context\u001b[0m\u001b[0;34m.\u001b[0m\u001b[0mwrap_socket\u001b[0m\u001b[0;34m(\u001b[0m\u001b[0msock\u001b[0m\u001b[0;34m,\u001b[0m \u001b[0mserver_hostname\u001b[0m\u001b[0;34m=\u001b[0m\u001b[0mserver_hostname\u001b[0m\u001b[0;34m)\u001b[0m\u001b[0;34m\u001b[0m\u001b[0;34m\u001b[0m\u001b[0m\n\u001b[0m\u001b[1;32m    494\u001b[0m     \u001b[0;32melse\u001b[0m\u001b[0;34m:\u001b[0m\u001b[0;34m\u001b[0m\u001b[0;34m\u001b[0m\u001b[0m\n\u001b[1;32m    495\u001b[0m         \u001b[0;32mreturn\u001b[0m \u001b[0mssl_context\u001b[0m\u001b[0;34m.\u001b[0m\u001b[0mwrap_socket\u001b[0m\u001b[0;34m(\u001b[0m\u001b[0msock\u001b[0m\u001b[0;34m)\u001b[0m\u001b[0;34m\u001b[0m\u001b[0;34m\u001b[0m\u001b[0m\n",
      "\u001b[0;32m~/opt/anaconda3/lib/python3.9/ssl.py\u001b[0m in \u001b[0;36mwrap_socket\u001b[0;34m(self, sock, server_side, do_handshake_on_connect, suppress_ragged_eofs, server_hostname, session)\u001b[0m\n\u001b[1;32m    498\u001b[0m         \u001b[0;31m# SSLSocket class handles server_hostname encoding before it calls\u001b[0m\u001b[0;34m\u001b[0m\u001b[0;34m\u001b[0m\u001b[0m\n\u001b[1;32m    499\u001b[0m         \u001b[0;31m# ctx._wrap_socket()\u001b[0m\u001b[0;34m\u001b[0m\u001b[0;34m\u001b[0m\u001b[0m\n\u001b[0;32m--> 500\u001b[0;31m         return self.sslsocket_class._create(\n\u001b[0m\u001b[1;32m    501\u001b[0m             \u001b[0msock\u001b[0m\u001b[0;34m=\u001b[0m\u001b[0msock\u001b[0m\u001b[0;34m,\u001b[0m\u001b[0;34m\u001b[0m\u001b[0;34m\u001b[0m\u001b[0m\n\u001b[1;32m    502\u001b[0m             \u001b[0mserver_side\u001b[0m\u001b[0;34m=\u001b[0m\u001b[0mserver_side\u001b[0m\u001b[0;34m,\u001b[0m\u001b[0;34m\u001b[0m\u001b[0;34m\u001b[0m\u001b[0m\n",
      "\u001b[0;32m~/opt/anaconda3/lib/python3.9/ssl.py\u001b[0m in \u001b[0;36m_create\u001b[0;34m(cls, sock, server_side, do_handshake_on_connect, suppress_ragged_eofs, server_hostname, context, session)\u001b[0m\n\u001b[1;32m   1038\u001b[0m                         \u001b[0;31m# non-blocking\u001b[0m\u001b[0;34m\u001b[0m\u001b[0;34m\u001b[0m\u001b[0m\n\u001b[1;32m   1039\u001b[0m                         \u001b[0;32mraise\u001b[0m \u001b[0mValueError\u001b[0m\u001b[0;34m(\u001b[0m\u001b[0;34m\"do_handshake_on_connect should not be specified for non-blocking sockets\"\u001b[0m\u001b[0;34m)\u001b[0m\u001b[0;34m\u001b[0m\u001b[0;34m\u001b[0m\u001b[0m\n\u001b[0;32m-> 1040\u001b[0;31m                     \u001b[0mself\u001b[0m\u001b[0;34m.\u001b[0m\u001b[0mdo_handshake\u001b[0m\u001b[0;34m(\u001b[0m\u001b[0;34m)\u001b[0m\u001b[0;34m\u001b[0m\u001b[0;34m\u001b[0m\u001b[0m\n\u001b[0m\u001b[1;32m   1041\u001b[0m             \u001b[0;32mexcept\u001b[0m \u001b[0;34m(\u001b[0m\u001b[0mOSError\u001b[0m\u001b[0;34m,\u001b[0m \u001b[0mValueError\u001b[0m\u001b[0;34m)\u001b[0m\u001b[0;34m:\u001b[0m\u001b[0;34m\u001b[0m\u001b[0;34m\u001b[0m\u001b[0m\n\u001b[1;32m   1042\u001b[0m                 \u001b[0mself\u001b[0m\u001b[0;34m.\u001b[0m\u001b[0mclose\u001b[0m\u001b[0;34m(\u001b[0m\u001b[0;34m)\u001b[0m\u001b[0;34m\u001b[0m\u001b[0;34m\u001b[0m\u001b[0m\n",
      "\u001b[0;32m~/opt/anaconda3/lib/python3.9/ssl.py\u001b[0m in \u001b[0;36mdo_handshake\u001b[0;34m(self, block)\u001b[0m\n\u001b[1;32m   1307\u001b[0m             \u001b[0;32mif\u001b[0m \u001b[0mtimeout\u001b[0m \u001b[0;34m==\u001b[0m \u001b[0;36m0.0\u001b[0m \u001b[0;32mand\u001b[0m \u001b[0mblock\u001b[0m\u001b[0;34m:\u001b[0m\u001b[0;34m\u001b[0m\u001b[0;34m\u001b[0m\u001b[0m\n\u001b[1;32m   1308\u001b[0m                 \u001b[0mself\u001b[0m\u001b[0;34m.\u001b[0m\u001b[0msettimeout\u001b[0m\u001b[0;34m(\u001b[0m\u001b[0;32mNone\u001b[0m\u001b[0;34m)\u001b[0m\u001b[0;34m\u001b[0m\u001b[0;34m\u001b[0m\u001b[0m\n\u001b[0;32m-> 1309\u001b[0;31m             \u001b[0mself\u001b[0m\u001b[0;34m.\u001b[0m\u001b[0m_sslobj\u001b[0m\u001b[0;34m.\u001b[0m\u001b[0mdo_handshake\u001b[0m\u001b[0;34m(\u001b[0m\u001b[0;34m)\u001b[0m\u001b[0;34m\u001b[0m\u001b[0;34m\u001b[0m\u001b[0m\n\u001b[0m\u001b[1;32m   1310\u001b[0m         \u001b[0;32mfinally\u001b[0m\u001b[0;34m:\u001b[0m\u001b[0;34m\u001b[0m\u001b[0;34m\u001b[0m\u001b[0m\n\u001b[1;32m   1311\u001b[0m             \u001b[0mself\u001b[0m\u001b[0;34m.\u001b[0m\u001b[0msettimeout\u001b[0m\u001b[0;34m(\u001b[0m\u001b[0mtimeout\u001b[0m\u001b[0;34m)\u001b[0m\u001b[0;34m\u001b[0m\u001b[0;34m\u001b[0m\u001b[0m\n",
      "\u001b[0;31mKeyboardInterrupt\u001b[0m: "
     ]
    }
   ],
   "source": [
    "import requests\n",
    "import time\n",
    "\n",
    "# initialize a df for vax\n",
    "vax = pd.DataFrame()\n",
    "\n",
    "states = [ 'AK', 'AL', 'AR', 'AZ', 'CA', 'CO', 'CT', 'DC', 'DE', 'FL', 'GA',\n",
    "#            'HI', \n",
    "          'IA', 'ID', 'IL', 'IN', 'KS', 'KY', 'LA', 'MA', 'MD', 'ME',\n",
    "           'MI', 'MN', 'MO', 'MS', 'MT', 'NC', 'ND', 'NE', 'NH', 'NJ', 'NM',\n",
    "           'NV', 'NY', 'OH', 'OK', 'OR', 'PA', 'RI', 'SC', 'SD', 'TN', 'TX',\n",
    "           'UT', 'VA', 'VT', 'WA', 'WI', 'WV', 'WY']\n",
    "for state in states:\n",
    "    time.sleep(1)\n",
    "    url_vax = f'https://data.cdc.gov/resource/8xkx-amqh.json?$select=Date,Recip_State,Recip_County,Series_Complete_Yes&$where=Date%3E=%222020-12-01%22AND%20Date%3C%222022-03-21%22AND%20Recip_State=%27{state}%27&$limit=105000&$offset=0'\n",
    "    # print(f'trying {state}')\n",
    "    res_vax = requests.get(url_vax)\n",
    "    if res_vax.status_code !=200:\n",
    "        print(f'Status not ok for {state}')\n",
    "        break\n",
    "    data_vax= res_vax.json()\n",
    "    df = pd.DataFrame(data_vax)\n",
    "    # Make the data numerical and date time\n",
    "    df['Date'] = pd.to_datetime(df['Date'])\n",
    "    df['Series_Complete_Yes'] = df['Series_Complete_Yes'].astype(float)\n",
    "\n",
    "    # sum over counties to get state level data\n",
    "    df = df.groupby('Date').sum().sort_index()\n",
    "\n",
    "    # write to the vax df\n",
    "    vax[f'{state}_V'] = df['Series_Complete_Yes'].diff()\n",
    "    vax[f'{state}_V'][0] = 0\n",
    "\n",
    "    del df['Series_Complete_Yes']\n",
    "\n",
    "vax"
   ]
  },
  {
   "cell_type": "markdown",
   "id": "3d3bb954-2981-4f86-bb4d-2427017c7865",
   "metadata": {},
   "source": [
    "### 3.2.1) Hawaii is excluded because it's vax data is not findable with our api request.\n",
    "This fact is demonstrated below."
   ]
  },
  {
   "cell_type": "code",
   "execution_count": null,
   "id": "561dbc79-3464-4311-a77a-b40464b06348",
   "metadata": {},
   "outputs": [],
   "source": [
    "state = 'HI'\n",
    "vax = pd.DataFrame()\n",
    "url_vax = f'https://data.cdc.gov/resource/8xkx-amqh.json?$select=Date,Recip_State,Recip_County,Series_Complete_Yes&$where=Date%3E=%222020-12-01%22AND%20Date%3C%222022-03-21%22AND%20Recip_State=%27{state}%27&$limit=105000&$offset=0'\n",
    "print(f'trying {state}')\n",
    "res_vax = requests.get(url_vax)\n",
    "if res_vax.status_code !=200:\n",
    "    print(f'Status not ok for {state}')\n",
    "    \n",
    "data_vax= res_vax.json()\n",
    "df = pd.DataFrame(data_vax)\n",
    "# Make the data numerical and date time\n",
    "df['Date'] = pd.to_datetime(df['Date'])\n",
    "df.head(1)"
   ]
  },
  {
   "cell_type": "markdown",
   "id": "c0815f68-4060-4590-83ec-3f1e4663049a",
   "metadata": {},
   "source": [
    "Since `'Series_Complete_Yes'` is not a column here, the following line gives an error."
   ]
  },
  {
   "cell_type": "code",
   "execution_count": null,
   "id": "85791217-5041-46a9-9b62-76c3930795fd",
   "metadata": {},
   "outputs": [],
   "source": [
    "# df['Series_Complete_Yes'] = df['Series_Complete_Yes'].astype(float)"
   ]
  },
  {
   "cell_type": "markdown",
   "id": "64c69096-55e9-4baa-860a-33c94c2526be",
   "metadata": {},
   "source": [
    "## 3.3 Merging Infected and Vax on Dates"
   ]
  },
  {
   "cell_type": "code",
   "execution_count": null,
   "id": "44b6e0f9",
   "metadata": {},
   "outputs": [],
   "source": [
    "#read in vax data from file\n",
    "vax = pd.read_csv('../data/all_state_vax.csv')\n",
    "vax['Date'] = pd.to_datetime(vax['Date'])\n",
    "vax.set_index('Date',inplace=True)\n"
   ]
  },
  {
   "cell_type": "code",
   "execution_count": null,
   "id": "1f16fe44",
   "metadata": {},
   "outputs": [],
   "source": [
    "# merge infected and vax data on date\n",
    "infected_vaxed = pd.merge(infected, vax, \n",
    "         left_on= infected.index, \n",
    "         right_on= vax.index, \n",
    "         how='inner').set_index('key_0').fillna(0)\n"
   ]
  },
  {
   "cell_type": "code",
   "execution_count": null,
   "id": "836597b5",
   "metadata": {},
   "outputs": [],
   "source": [
    "infected_vaxed.to_csv('../data/I_V_all_states.csv')"
   ]
  },
  {
   "cell_type": "markdown",
   "id": "51f8ad27",
   "metadata": {},
   "source": [
    "# 4) Real data from Texas"
   ]
  },
  {
   "cell_type": "markdown",
   "id": "b550ef60",
   "metadata": {},
   "source": [
    "Here we use the actual population of Texas and the actual number of infected to predict the number of cases at all later times. "
   ]
  },
  {
   "cell_type": "code",
   "execution_count": 182,
   "id": "72c92620-fc2f-405c-abe0-2761aecc6ea9",
   "metadata": {},
   "outputs": [],
   "source": [
    "from sklearn.metrics import mean_absolute_error"
   ]
  },
  {
   "cell_type": "code",
   "execution_count": 183,
   "id": "5dddf20d-4afc-4ca2-b276-ce0cccb2c6cd",
   "metadata": {},
   "outputs": [
    {
     "name": "stderr",
     "output_type": "stream",
     "text": [
      "/Users/wonderman/opt/anaconda3/lib/python3.9/site-packages/pandas/core/frame.py:5039: SettingWithCopyWarning: \n",
      "A value is trying to be set on a copy of a slice from a DataFrame\n",
      "\n",
      "See the caveats in the documentation: https://pandas.pydata.org/pandas-docs/stable/user_guide/indexing.html#returning-a-view-versus-a-copy\n",
      "  return super().rename(\n"
     ]
    },
    {
     "data": {
      "text/html": [
       "<div>\n",
       "<style scoped>\n",
       "    .dataframe tbody tr th:only-of-type {\n",
       "        vertical-align: middle;\n",
       "    }\n",
       "\n",
       "    .dataframe tbody tr th {\n",
       "        vertical-align: top;\n",
       "    }\n",
       "\n",
       "    .dataframe thead th {\n",
       "        text-align: right;\n",
       "    }\n",
       "</style>\n",
       "<table border=\"1\" class=\"dataframe\">\n",
       "  <thead>\n",
       "    <tr style=\"text-align: right;\">\n",
       "      <th></th>\n",
       "      <th>I_actual</th>\n",
       "      <th>V</th>\n",
       "    </tr>\n",
       "    <tr>\n",
       "      <th>key_0</th>\n",
       "      <th></th>\n",
       "      <th></th>\n",
       "    </tr>\n",
       "  </thead>\n",
       "  <tbody>\n",
       "    <tr>\n",
       "      <th>2020-12-13</th>\n",
       "      <td>206004.0</td>\n",
       "      <td>0.0</td>\n",
       "    </tr>\n",
       "    <tr>\n",
       "      <th>2020-12-14</th>\n",
       "      <td>203709.0</td>\n",
       "      <td>0.0</td>\n",
       "    </tr>\n",
       "    <tr>\n",
       "      <th>2020-12-15</th>\n",
       "      <td>203566.0</td>\n",
       "      <td>0.0</td>\n",
       "    </tr>\n",
       "    <tr>\n",
       "      <th>2020-12-16</th>\n",
       "      <td>203146.0</td>\n",
       "      <td>0.0</td>\n",
       "    </tr>\n",
       "    <tr>\n",
       "      <th>2020-12-17</th>\n",
       "      <td>205443.0</td>\n",
       "      <td>0.0</td>\n",
       "    </tr>\n",
       "    <tr>\n",
       "      <th>...</th>\n",
       "      <td>...</td>\n",
       "      <td>...</td>\n",
       "    </tr>\n",
       "    <tr>\n",
       "      <th>2021-12-25</th>\n",
       "      <td>117048.0</td>\n",
       "      <td>173.0</td>\n",
       "    </tr>\n",
       "    <tr>\n",
       "      <th>2021-12-26</th>\n",
       "      <td>127017.0</td>\n",
       "      <td>56.0</td>\n",
       "    </tr>\n",
       "    <tr>\n",
       "      <th>2021-12-27</th>\n",
       "      <td>140111.0</td>\n",
       "      <td>38830.0</td>\n",
       "    </tr>\n",
       "    <tr>\n",
       "      <th>2021-12-28</th>\n",
       "      <td>150265.0</td>\n",
       "      <td>14283.0</td>\n",
       "    </tr>\n",
       "    <tr>\n",
       "      <th>2021-12-29</th>\n",
       "      <td>159605.0</td>\n",
       "      <td>20321.0</td>\n",
       "    </tr>\n",
       "  </tbody>\n",
       "</table>\n",
       "<p>382 rows × 2 columns</p>\n",
       "</div>"
      ],
      "text/plain": [
       "            I_actual        V\n",
       "key_0                        \n",
       "2020-12-13  206004.0      0.0\n",
       "2020-12-14  203709.0      0.0\n",
       "2020-12-15  203566.0      0.0\n",
       "2020-12-16  203146.0      0.0\n",
       "2020-12-17  205443.0      0.0\n",
       "...              ...      ...\n",
       "2021-12-25  117048.0    173.0\n",
       "2021-12-26  127017.0     56.0\n",
       "2021-12-27  140111.0  38830.0\n",
       "2021-12-28  150265.0  14283.0\n",
       "2021-12-29  159605.0  20321.0\n",
       "\n",
       "[382 rows x 2 columns]"
      ]
     },
     "execution_count": 183,
     "metadata": {},
     "output_type": "execute_result"
    }
   ],
   "source": [
    "#A fileter \n",
    "TX_filter = infected_vaxed.columns.str.contains('TX')\n",
    "TX_filter.sum()\n",
    "df = infected_vaxed.loc[:,TX_filter]\n",
    "df.rename(columns = {'TX_I':'I_actual', 'TX_V':'V'}, inplace=True)\n",
    "df"
   ]
  },
  {
   "cell_type": "markdown",
   "id": "01ec26de",
   "metadata": {},
   "source": [
    "## 4.1)  SIR Extrapolation From Day 1"
   ]
  },
  {
   "cell_type": "markdown",
   "id": "39677778-7b04-47e8-bb0b-ef7c87641216",
   "metadata": {},
   "source": [
    "What does the SIR model say will be the course of the epidemic in Texas based off just day 1 in the dataset? This depends on not only the number of infections on that day $I_0$, but also on the number of susceptable and recovered individulals, $S_0$ and ,$R_0 = p-I_0-S_0$. Given $I_0$, the largest possible $S_0$ is $p-I_0$. But what fraction $r$ of the uninfected population $p-I_0$ was susceptable on that day? \n",
    "\n",
    "We define \n",
    "\n",
    "$$r = \\frac{S_0}{p-I_0} .$$ "
   ]
  },
  {
   "cell_type": "markdown",
   "id": "09067d87-8e93-4a2a-8c9e-ce413d5a6db5",
   "metadata": {},
   "source": [
    "### 4.1.1) An estimate for $r$\n",
    "\n",
    "We formulate an estimate for $r$ based on the available data in our table and the population of Texas consider the equations \n",
    "$$r(p-I_0) = S_0,$$\n",
    "$$(1-r)(p-I_0) = R_0,$$\n",
    "$$1-r = \\frac{R_0/p}{1-I_0/p}$$\n",
    "\n",
    "Estimating $R_0$ to be the total cases,  \n",
    "$$1-r \\approx \\frac{\\left(1,464,374/29,145,505\\right)}{\\left(1+203,566/29,145,505\\right)} =0.05$$\n",
    "$$\\Rightarrow r \\approx 0.95$$."
   ]
  },
  {
   "cell_type": "markdown",
   "id": "bb140acf-62bb-485e-8412-35ad1e3d386b",
   "metadata": {},
   "source": [
    "There are several reasons this might be an underestimate for the fraction of the available population that was susceptable.\n",
    "- The number of COVID cases could have been under reported\n",
    "- A fraction of the public might be naturally immune to COVID. \n",
    "\n",
    "Thus, after running the model with this value, I will find the value that gives the best fit. "
   ]
  },
  {
   "cell_type": "markdown",
   "id": "f431f111-1f50-4fa9-9895-64ca4c81de8a",
   "metadata": {},
   "source": [
    "### 4.1.2) Fit With Inital estimate for $r$"
   ]
  },
  {
   "cell_type": "markdown",
   "id": "c24991ff-dbb1-4c30-93be-3a34d874300b",
   "metadata": {},
   "source": [
    "  As seen below, the SIR model with parameters as described above does terribly in fitting the actual data. "
   ]
  },
  {
   "cell_type": "code",
   "execution_count": 181,
   "id": "cb2694b9-7e83-4663-a3a2-a4a3bc6df11e",
   "metadata": {},
   "outputs": [
    {
     "ename": "KeyError",
     "evalue": "'I_actual'",
     "output_type": "error",
     "traceback": [
      "\u001b[0;31m---------------------------------------------------------------------------\u001b[0m",
      "\u001b[0;31mKeyError\u001b[0m                                  Traceback (most recent call last)",
      "\u001b[0;32m~/opt/anaconda3/lib/python3.9/site-packages/pandas/core/indexes/base.py\u001b[0m in \u001b[0;36mget_loc\u001b[0;34m(self, key, method, tolerance)\u001b[0m\n\u001b[1;32m   3360\u001b[0m             \u001b[0;32mtry\u001b[0m\u001b[0;34m:\u001b[0m\u001b[0;34m\u001b[0m\u001b[0;34m\u001b[0m\u001b[0m\n\u001b[0;32m-> 3361\u001b[0;31m                 \u001b[0;32mreturn\u001b[0m \u001b[0mself\u001b[0m\u001b[0;34m.\u001b[0m\u001b[0m_engine\u001b[0m\u001b[0;34m.\u001b[0m\u001b[0mget_loc\u001b[0m\u001b[0;34m(\u001b[0m\u001b[0mcasted_key\u001b[0m\u001b[0;34m)\u001b[0m\u001b[0;34m\u001b[0m\u001b[0;34m\u001b[0m\u001b[0m\n\u001b[0m\u001b[1;32m   3362\u001b[0m             \u001b[0;32mexcept\u001b[0m \u001b[0mKeyError\u001b[0m \u001b[0;32mas\u001b[0m \u001b[0merr\u001b[0m\u001b[0;34m:\u001b[0m\u001b[0;34m\u001b[0m\u001b[0;34m\u001b[0m\u001b[0m\n",
      "\u001b[0;32m~/opt/anaconda3/lib/python3.9/site-packages/pandas/_libs/index.pyx\u001b[0m in \u001b[0;36mpandas._libs.index.IndexEngine.get_loc\u001b[0;34m()\u001b[0m\n",
      "\u001b[0;32m~/opt/anaconda3/lib/python3.9/site-packages/pandas/_libs/index.pyx\u001b[0m in \u001b[0;36mpandas._libs.index.IndexEngine.get_loc\u001b[0;34m()\u001b[0m\n",
      "\u001b[0;32mpandas/_libs/hashtable_class_helper.pxi\u001b[0m in \u001b[0;36mpandas._libs.hashtable.PyObjectHashTable.get_item\u001b[0;34m()\u001b[0m\n",
      "\u001b[0;32mpandas/_libs/hashtable_class_helper.pxi\u001b[0m in \u001b[0;36mpandas._libs.hashtable.PyObjectHashTable.get_item\u001b[0;34m()\u001b[0m\n",
      "\u001b[0;31mKeyError\u001b[0m: 'I_actual'",
      "\nThe above exception was the direct cause of the following exception:\n",
      "\u001b[0;31mKeyError\u001b[0m                                  Traceback (most recent call last)",
      "\u001b[0;32m/var/folders/kl/2yh74fss7jj3r6_9sk1_4fmm0000gn/T/ipykernel_27804/1376005127.py\u001b[0m in \u001b[0;36m<module>\u001b[0;34m\u001b[0m\n\u001b[1;32m     26\u001b[0m \u001b[0;34m\u001b[0m\u001b[0m\n\u001b[1;32m     27\u001b[0m \u001b[0;31m#initial values:\u001b[0m\u001b[0;34m\u001b[0m\u001b[0;34m\u001b[0m\u001b[0m\n\u001b[0;32m---> 28\u001b[0;31m \u001b[0mI0\u001b[0m \u001b[0;34m=\u001b[0m \u001b[0mdf\u001b[0m\u001b[0;34m[\u001b[0m\u001b[0;34m'I_actual'\u001b[0m\u001b[0;34m]\u001b[0m\u001b[0;34m[\u001b[0m\u001b[0;36m0\u001b[0m\u001b[0;34m]\u001b[0m\u001b[0;34m\u001b[0m\u001b[0;34m\u001b[0m\u001b[0m\n\u001b[0m\u001b[1;32m     29\u001b[0m \u001b[0mr\u001b[0m \u001b[0;34m=\u001b[0m \u001b[0;36m0.95\u001b[0m\u001b[0;34m\u001b[0m\u001b[0;34m\u001b[0m\u001b[0m\n\u001b[1;32m     30\u001b[0m \u001b[0mS0\u001b[0m \u001b[0;34m=\u001b[0m \u001b[0mr\u001b[0m\u001b[0;34m*\u001b[0m\u001b[0;34m(\u001b[0m\u001b[0mp\u001b[0m\u001b[0;34m-\u001b[0m\u001b[0mI0\u001b[0m\u001b[0;34m)\u001b[0m\u001b[0;34m\u001b[0m\u001b[0;34m\u001b[0m\u001b[0m\n",
      "\u001b[0;32m~/opt/anaconda3/lib/python3.9/site-packages/pandas/core/frame.py\u001b[0m in \u001b[0;36m__getitem__\u001b[0;34m(self, key)\u001b[0m\n\u001b[1;32m   3456\u001b[0m             \u001b[0;32mif\u001b[0m \u001b[0mself\u001b[0m\u001b[0;34m.\u001b[0m\u001b[0mcolumns\u001b[0m\u001b[0;34m.\u001b[0m\u001b[0mnlevels\u001b[0m \u001b[0;34m>\u001b[0m \u001b[0;36m1\u001b[0m\u001b[0;34m:\u001b[0m\u001b[0;34m\u001b[0m\u001b[0;34m\u001b[0m\u001b[0m\n\u001b[1;32m   3457\u001b[0m                 \u001b[0;32mreturn\u001b[0m \u001b[0mself\u001b[0m\u001b[0;34m.\u001b[0m\u001b[0m_getitem_multilevel\u001b[0m\u001b[0;34m(\u001b[0m\u001b[0mkey\u001b[0m\u001b[0;34m)\u001b[0m\u001b[0;34m\u001b[0m\u001b[0;34m\u001b[0m\u001b[0m\n\u001b[0;32m-> 3458\u001b[0;31m             \u001b[0mindexer\u001b[0m \u001b[0;34m=\u001b[0m \u001b[0mself\u001b[0m\u001b[0;34m.\u001b[0m\u001b[0mcolumns\u001b[0m\u001b[0;34m.\u001b[0m\u001b[0mget_loc\u001b[0m\u001b[0;34m(\u001b[0m\u001b[0mkey\u001b[0m\u001b[0;34m)\u001b[0m\u001b[0;34m\u001b[0m\u001b[0;34m\u001b[0m\u001b[0m\n\u001b[0m\u001b[1;32m   3459\u001b[0m             \u001b[0;32mif\u001b[0m \u001b[0mis_integer\u001b[0m\u001b[0;34m(\u001b[0m\u001b[0mindexer\u001b[0m\u001b[0;34m)\u001b[0m\u001b[0;34m:\u001b[0m\u001b[0;34m\u001b[0m\u001b[0;34m\u001b[0m\u001b[0m\n\u001b[1;32m   3460\u001b[0m                 \u001b[0mindexer\u001b[0m \u001b[0;34m=\u001b[0m \u001b[0;34m[\u001b[0m\u001b[0mindexer\u001b[0m\u001b[0;34m]\u001b[0m\u001b[0;34m\u001b[0m\u001b[0;34m\u001b[0m\u001b[0m\n",
      "\u001b[0;32m~/opt/anaconda3/lib/python3.9/site-packages/pandas/core/indexes/base.py\u001b[0m in \u001b[0;36mget_loc\u001b[0;34m(self, key, method, tolerance)\u001b[0m\n\u001b[1;32m   3361\u001b[0m                 \u001b[0;32mreturn\u001b[0m \u001b[0mself\u001b[0m\u001b[0;34m.\u001b[0m\u001b[0m_engine\u001b[0m\u001b[0;34m.\u001b[0m\u001b[0mget_loc\u001b[0m\u001b[0;34m(\u001b[0m\u001b[0mcasted_key\u001b[0m\u001b[0;34m)\u001b[0m\u001b[0;34m\u001b[0m\u001b[0;34m\u001b[0m\u001b[0m\n\u001b[1;32m   3362\u001b[0m             \u001b[0;32mexcept\u001b[0m \u001b[0mKeyError\u001b[0m \u001b[0;32mas\u001b[0m \u001b[0merr\u001b[0m\u001b[0;34m:\u001b[0m\u001b[0;34m\u001b[0m\u001b[0;34m\u001b[0m\u001b[0m\n\u001b[0;32m-> 3363\u001b[0;31m                 \u001b[0;32mraise\u001b[0m \u001b[0mKeyError\u001b[0m\u001b[0;34m(\u001b[0m\u001b[0mkey\u001b[0m\u001b[0;34m)\u001b[0m \u001b[0;32mfrom\u001b[0m \u001b[0merr\u001b[0m\u001b[0;34m\u001b[0m\u001b[0;34m\u001b[0m\u001b[0m\n\u001b[0m\u001b[1;32m   3364\u001b[0m \u001b[0;34m\u001b[0m\u001b[0m\n\u001b[1;32m   3365\u001b[0m         \u001b[0;32mif\u001b[0m \u001b[0mis_scalar\u001b[0m\u001b[0;34m(\u001b[0m\u001b[0mkey\u001b[0m\u001b[0;34m)\u001b[0m \u001b[0;32mand\u001b[0m \u001b[0misna\u001b[0m\u001b[0;34m(\u001b[0m\u001b[0mkey\u001b[0m\u001b[0;34m)\u001b[0m \u001b[0;32mand\u001b[0m \u001b[0;32mnot\u001b[0m \u001b[0mself\u001b[0m\u001b[0;34m.\u001b[0m\u001b[0mhasnans\u001b[0m\u001b[0;34m:\u001b[0m\u001b[0;34m\u001b[0m\u001b[0;34m\u001b[0m\u001b[0m\n",
      "\u001b[0;31mKeyError\u001b[0m: 'I_actual'"
     ]
    }
   ],
   "source": [
    "def SIR_sim(S0,I0,V,d):\n",
    "    \"\"\"Takes initial populations and predicts populations at all later times.\n",
    "    The function is defined with default values to enable group member to play with it.\"\"\"\n",
    "    # Initialize S,I,R\n",
    "    S = pd.Series(data = np.zeros(d,))\n",
    "    I = pd.Series(data = np.zeros(d,))\n",
    "    R = pd.Series(data = np.zeros(d,))\n",
    "    S[0] = S0\n",
    "    I[0] = I0\n",
    "    R[0] = p-S0-I0\n",
    "\n",
    "    # calculate later values from initial values\n",
    "    #no vaccination for now\n",
    "    for t in range(0,d-1):\n",
    "        S[t+1] = S[t] -a*S[t]*I[t] +c*R[t] -V[t]\n",
    "        I[t+1] = I[t]+ a*S[t]*I[t] - b*I[t]\n",
    "        R[t+1] = R[t]+ b*I[t] - c*R[t] +V[t]\n",
    "    return S,I,R\n",
    "\n",
    "# run sim with TEXAS values \n",
    "p = populations['TX'] #29_145_505 # google TX pop\n",
    "b = 1/14 \n",
    "a = .2/p\n",
    "c = 1/100\n",
    "d = len(df) #number of days to run simulation is length of list\n",
    "\n",
    "#initial values:\n",
    "I0 = df['I_actual'][0]\n",
    "r = 0.95\n",
    "S0 = r*(p-I0)\n",
    "V = df['V']\n",
    "# run simulation\n",
    "S,I,R = SIR_sim(S0, I0,V,d)\n",
    "        \n",
    "\n",
    "mae = mean_absolute_error(df['I_actual'],I)\n",
    "# 06688e, 000000\n",
    "fig = plt.figure()\n",
    "plt.plot(df.index, I, label='I Predicted', color = '#06688e')\n",
    "plt.plot(df.index, df['I_actual'], label ='I Actual',color='#000000' )\n",
    "plt.text(x=df.index[len(df)//2],y=5_000_000, s= f\"MAE = {round(mae):,d}\")\n",
    "plt.title('Extrapolation From Day 1, r=0.95 and c=1/100: Texas')\n",
    "plt.xlabel('Day')\n",
    "plt.ylabel('Counts')\n",
    "plt.xticks(rotation=35)\n",
    "plt.legend()\n",
    "plt.tight_layout()\n",
    "fig.savefig('images/Texas_long.png', transparent=True);"
   ]
  },
  {
   "cell_type": "markdown",
   "id": "9402ccd5",
   "metadata": {},
   "source": [
    "### 3.2.3) Searching for $r$ Of Best Fit\n",
    "\n",
    "Now I will find the value of $r$ that gives the minimum error of from day 1 predictions. "
   ]
  },
  {
   "cell_type": "code",
   "execution_count": null,
   "id": "d8dcc92f-4fe5-4000-86b6-3b8be2b8ba18",
   "metadata": {},
   "outputs": [],
   "source": [
    "#make sure to use texas values\n",
    "p = populations['TX'] #29_145_505 # google TX pop\n",
    "b = 1/14 \n",
    "a = .2/p\n",
    "c = 1/100\n",
    "d = len(df) #number of days to run simulation is length of list\n",
    "\n",
    "score_df = pd.DataFrame(columns = ['r','MAE'])\n",
    "for r in np.linspace(0.01, 0.9, 100):\n",
    "    #set initial values\n",
    "    I0 = df['I_actual'][0]\n",
    "    S0 = r*(p-I0)\n",
    "    V = df['V']\n",
    "    # run simulation\n",
    "    S,I,R = SIR_sim(S0, I0,V, d)\n",
    "    mae = mean_absolute_error(df['I_actual'],I)\n",
    "    score_df.loc[len(score_df)] = [r,mae]\n",
    "\n",
    "score_df.sort_values(by='MAE').iloc[0]"
   ]
  },
  {
   "cell_type": "markdown",
   "id": "cb8a699f-3734-4da8-9f24-45775be036f6",
   "metadata": {},
   "source": [
    "The apparent optimal value of $r$ is as low as r will go. "
   ]
  },
  {
   "cell_type": "code",
   "execution_count": null,
   "id": "ec969b44-b238-4350-b8ac-621aa207ea94",
   "metadata": {},
   "outputs": [],
   "source": [
    "#initial values:\n",
    "c = 1/100\n",
    "\n",
    "I0 = df['I_actual'][0]\n",
    "r = 0.01\n",
    "S0 = r*(p-I0)\n",
    "V = df['V']\n",
    "\n",
    "# run simulation\n",
    "S,I,R = SIR_sim(S0, I0,V, d)\n",
    "mae = mean_absolute_error(df['I_actual'],I)\n",
    "plt.plot(df.index, I, label='I Predicted')\n",
    "plt.plot(df.index, df['I_actual'], label ='I Actual')\n",
    "# plt.text(x=df.index[len(df)//2],y=5_000_000, s= f\"MAE={round(mae,3)}\")\n",
    "plt.title('Extrapolation From Day 1, r=0.95: Texas')\n",
    "plt.xlabel('Day')\n",
    "plt.ylabel('Counts')\n",
    "plt.xticks(rotation=45)\n",
    "plt.tight_layout()\n",
    "plt.legend();"
   ]
  },
  {
   "cell_type": "markdown",
   "id": "4c536431-ea89-4a9f-b74e-ba3c68856f9e",
   "metadata": {},
   "source": [
    "**Note the second wave behavior** that SIR models can exhibit. I was unaware that this was possible, and it seem s to be facilitated by a low value of $c$.. \n"
   ]
  },
  {
   "cell_type": "markdown",
   "id": "62a82203-25c6-430c-ad33-c146643cb366",
   "metadata": {},
   "source": [
    "### 3.2.4) Gridsearching over $r$ and $c$ values"
   ]
  },
  {
   "cell_type": "markdown",
   "id": "9b1a5631-470f-4ceb-863b-ee84f0d6f2b8",
   "metadata": {},
   "source": [
    "Because no value of $r$ gives a sufficiently low curve, I will now experiment with both $r$ and $c$."
   ]
  },
  {
   "cell_type": "code",
   "execution_count": null,
   "id": "142cb5e9-2b64-484d-a453-c99e74b60c42",
   "metadata": {},
   "outputs": [],
   "source": [
    "#make sure to use texas values\n",
    "score_df = pd.DataFrame(columns = ['r','c','MAE'])\n",
    "for r in np.linspace(0.3, 0.4, 10):\n",
    "    for c in np.linspace(1/10000,1/1000, 10):\n",
    "    #set initial values\n",
    "        I0 = df['I_actual'][0]\n",
    "        S0 = r*(p-I0)\n",
    "        # run simulation\n",
    "        S,I,R = SIR_sim(S0, I0, V,d)\n",
    "        mae = mean_absolute_error(df['I_actual'],I)\n",
    "        score_df.loc[len(score_df)] = [r,c,mae]\n",
    "\n",
    "score_df.sort_values(by='MAE').head(2)"
   ]
  },
  {
   "cell_type": "markdown",
   "id": "7918985e-6c3c-486b-956d-ac78931bcc7f",
   "metadata": {},
   "source": [
    "The model best fits the data when $r=31\\%$ of the uninfected population is susceptable initially, and the deimmunization rate is $6/10,000$ "
   ]
  },
  {
   "cell_type": "code",
   "execution_count": null,
   "id": "6551b6f5-157e-468d-ad2d-cf2261499a1f",
   "metadata": {},
   "outputs": [],
   "source": [
    "#initial values:\n",
    "c = 9/10_000\n",
    "I0 = df['I_actual'][0]\n",
    "r = 0.31\n",
    "S0 = r*(p-I0)\n",
    "# run simulation\n",
    "S,I,R = SIR_sim(S0, I0,V, d)\n",
    "mae = mean_absolute_error(df['I_actual'],I)\n",
    "fig = plt.figure()\n",
    "# 06688e, 000000\n",
    "plt.plot(df.index, I, label='I Predicted', color ='#06688e')\n",
    "plt.plot(df.index, df['I_actual'], label ='I Actual', color = '#000000')\n",
    "plt.text(x=df.index[len(df)//2 - 80],y=200_000, s= f\"MAE={round(mae):,d}\")\n",
    "plt.title('Extrapolation From Day 1, r=0.31, c=6/10,000: Texas')\n",
    "plt.xlabel('Day')\n",
    "plt.ylabel('Counts')\n",
    "plt.xticks(rotation=35)\n",
    "plt.tight_layout()\n",
    "plt.legend()\n",
    "fig.savefig('images/Texas_long_optimal.png', transparent=True);"
   ]
  },
  {
   "cell_type": "markdown",
   "id": "f7903731-56db-4cc8-8390-b447f13a0c7f",
   "metadata": {},
   "source": [
    "This looks terrible, even if it is a good fit. so I just want to find values of $r$ and $c$ that look nice in the sense of capturing the first hump. "
   ]
  },
  {
   "cell_type": "code",
   "execution_count": null,
   "id": "1f6404c5-13bf-448b-8eec-7ffbc6f998db",
   "metadata": {},
   "outputs": [],
   "source": [
    "#initial values:\n",
    "c = 1/10_000\n",
    "I0 = df['I_actual'][0]\n",
    "r = 0.4\n",
    "S0 = r*(p-I0)\n",
    "# run simulation\n",
    "S,I,R = SIR_sim(S0, I0,V, d)\n",
    "mae = mean_absolute_error(df['I_actual'],I)\n",
    "plt.plot(df.index, I, label='I Predicted')\n",
    "plt.plot(df.index, df['I_actual'], label ='I Actual')\n",
    "plt.text(x=df.index[len(df)//2 - 10],y=200_000, s= f\"MAE={round(mae,3)}\")\n",
    "plt.title('Extrapolation From Day 1 with r=0.4, c=1/10,000: Texas')\n",
    "plt.xlabel('Day')\n",
    "plt.ylabel('Counts')\n",
    "plt.xticks(rotation=45)\n",
    "plt.legend();"
   ]
  },
  {
   "cell_type": "markdown",
   "id": "2080d159",
   "metadata": {},
   "source": [
    "The pandemic did not play out as SIR predicts in the long run: there were complications like new variants and the introduction of vaccinations. Instead of making long term predictions with SIR, we now turn to making predictions 1 day out. "
   ]
  },
  {
   "cell_type": "markdown",
   "id": "bd045a37-5e35-4d9f-b87f-2a7d73541f9a",
   "metadata": {},
   "source": [
    "### 3.2.5) Conclusion on Long Term Predictions"
   ]
  },
  {
   "cell_type": "markdown",
   "id": "abc5a313-b065-4262-be9a-c4d705ccdcc6",
   "metadata": {},
   "source": [
    "The parameters we are unsure of, $c$ and $S_0$, do not allow SIR to make long term predictions that resemble the course of the disease. This is to be anticipated; there were many complications in the course of the pandemic not captured by the model including\n",
    "- public measure to reduce contact\n",
    "- mask use\n",
    "- hand washing\n",
    "- moves  to remote work. \n",
    "\n",
    "The general trend we see in attempting to use the most reasonable values of $c$ and $S_0$ is a predicted initial increase in cases far beyond what was observed. Thus, we begin to suspect that the disease spread much slower than SIR models predict. \n",
    "\n",
    "To test this hypothesis from anopther directoin, we now move to predicting the number of cases one day out, for every day in the data set. "
   ]
  },
  {
   "cell_type": "markdown",
   "id": "d7803346-7df4-4c23-8b52-ee4a023c99a9",
   "metadata": {},
   "source": [
    "## 3.2) One Day Predictions with SIR For Texas"
   ]
  },
  {
   "cell_type": "code",
   "execution_count": null,
   "id": "2a9b188f-2879-4e0d-8ea5-ea7ba15ba3d4",
   "metadata": {
    "tags": []
   },
   "outputs": [],
   "source": [
    "#parameters \n",
    "p = 29_145_505 # population (of Texas)\n",
    "b = 1/14 # Recovery rate for duration 14 days\n",
    "a = 2.8*b/p # transmission rate for reproduction number 2.8 and recovery rate 1/14\n",
    "c = 1/100 # rate of immunity loss\n",
    "\n",
    "def next_day_SI_withC(S,I,V):\n",
    "    '''Predicts the number of infected tomorrow and number of susceptable tomorrow\n",
    "    from number of infrected today \n",
    "    and number susceptable today'''\n",
    "    \n",
    "    S_next = S - a*S*I +c*(p-S-I) -V\n",
    "    I_next = I + a*S*I -b*I\n",
    "    return S_next,I_next"
   ]
  },
  {
   "cell_type": "code",
   "execution_count": null,
   "id": "e040d39b-8bae-4cd9-9a84-4e8af98e8007",
   "metadata": {
    "tags": []
   },
   "outputs": [],
   "source": [
    "# initialize \n",
    "S = pd.Series( np.zeros((len(df),)) )\n",
    "I = pd.Series( np.zeros((len(df),)) )\n",
    "r = 0.95 # Initial susceptable ratio\n",
    "S[0] = r*p # initial susceptable population\n",
    "I[0] = df['I_actual'].copy()[0]\n",
    "V = df['V']\n",
    "for day in range(0,len(df) -1):\n",
    "    S[day+1], I[day+1] = next_day_SI_withC(S[day],df['I_actual'][day],V[day])\n",
    "\n",
    "# plt.plot(S,label='S')\n",
    "# 06688e, 000000\n",
    "fig = plt.figure()\n",
    "plt.plot(I, label='Predicted I', color = '#06688e')\n",
    "plt.plot(range(len(df)) , df['I_actual'] , label ='Actual I', color = '#000000')\n",
    "plt.title('SIR 1 Day Out Predictions of Infections, r=.95, c=1/100: Texas')\n",
    "plt.xlabel('Day')\n",
    "plt.ylabel('Counts')\n",
    "plt.text(x=100,y=250_000, s= f\"MAE = {round(mean_absolute_error(I,df['I_actual']  )):,d}\")\n",
    "plt.text(x=80,y=200_000, s= f\"Mean Residual = {round(np.mean(I.values-df['I_actual'].values ) ):,d}\")\n",
    "plt.legend()\n",
    "plt.tight_layout()\n",
    "fig.savefig('images/one_day.png');"
   ]
  },
  {
   "cell_type": "markdown",
   "id": "513db5be-0d34-48e7-9fed-0f83e67fdda4",
   "metadata": {},
   "source": [
    "We can see that is model very consistently over-predicted; on average it over predicted by 12,110 cases each day, even though it was redicting on the previous days model. Once again, we see that SIR with reasonable values of the paramters heavily over predicts the spread COVID. "
   ]
  },
  {
   "cell_type": "markdown",
   "id": "f942ad04-e3fd-447d-8349-4207584ef8be",
   "metadata": {},
   "source": [
    "# 3.2.1) Gridsearch over $r$ to optimize one day SIR predictions"
   ]
  },
  {
   "cell_type": "markdown",
   "id": "c7d0fa2e-909b-4d81-8f03-3569cf9ef46c",
   "metadata": {},
   "source": [
    "The model depends on $r=\\frac{S_0}{p - I_0}$, and we are not at all certain about that value. I will search for an optimal value below."
   ]
  },
  {
   "cell_type": "code",
   "execution_count": null,
   "id": "f2f90ff8",
   "metadata": {},
   "outputs": [],
   "source": [
    "score_df = pd.DataFrame(columns = ['r','MAE'])\n",
    "\n",
    "for r in np.linspace(.32,.35,100):\n",
    "    S[0] = r*p # initial susceptable population\n",
    "    for day in range(0,len(df) -1):\n",
    "        S[day+1], I[day+1] = next_day_SI_withC(S[day],df['I_actual'][day],V[day])\n",
    "    mae = mean_absolute_error(I,df['I_actual'] )\n",
    "    score_df.loc[len(score_df)] = [r,mae]\n",
    "score_df.sort_values(by='MAE').iloc[1]"
   ]
  },
  {
   "cell_type": "code",
   "execution_count": null,
   "id": "7257f776",
   "metadata": {},
   "outputs": [],
   "source": [
    "S[0] = 0.323*p # initial susceptable population\n",
    "\n",
    "for day in range(0,len(df) -1):\n",
    "    S[day+1], I[day+1] = next_day_SI_withC(S[day],df['I_actual'][day],V[day])\n",
    "\n",
    "# plt.plot(S,label='S')\n",
    "plt.plot(I, label='Predicted I', color = '#06688e')\n",
    "plt.plot(range(len(df)) , df['I_actual'] , label ='Actual I', color = '#000000')\n",
    "plt.title('SIR 1 Day Out Predictions: Optimized r=0.32 ')\n",
    "plt.xlabel('Day')\n",
    "plt.ylabel('Counts')\n",
    "plt.text(x=100,y=200_000, s= f\"MAE={round(mean_absolute_error(I,df['I_actual']  ))}\")\n",
    "plt.text(x=90,y=150_000, s= f\"Mean Residual ={round(np.mean(I.values-df['I_actual'].values ) )}\")\n",
    "plt.legend();"
   ]
  },
  {
   "cell_type": "markdown",
   "id": "431a9fc4-4f10-4883-9ce6-ffb493e454e7",
   "metadata": {},
   "source": [
    "With $r$ optimized to an unreasonably low value, sir still over predicts by, on average, 7,478 cases per day. Thus, if SIR is to have a mean residual near zero then it will need to do so by changing another paramter. The parameter what we are second most sure about is the deimmunizatoin rate $c$."
   ]
  },
  {
   "cell_type": "markdown",
   "id": "6f502b55-c135-4175-bbef-bd6ac695b21a",
   "metadata": {},
   "source": [
    "# 3.2.2) Gridsearch over $r$ and $c$ to optimize one day SIR predictions"
   ]
  },
  {
   "cell_type": "code",
   "execution_count": null,
   "id": "0ee64d26-bf57-4cfb-8986-be0f08dd85dc",
   "metadata": {},
   "outputs": [],
   "source": [
    "score_df = pd.DataFrame(columns = ['r','c','MAE'])\n",
    "\n",
    "for r in np.linspace(.32,.35,10):\n",
    "    for c in np.linspace(1/10_000, 1/10,10):\n",
    "        S[0] = r*p # initial susceptable population\n",
    "        for day in range(0,len(df) -1):\n",
    "            S[day+1], I[day+1] = next_day_SI_withC(S[day],df['I_actual'][day],V[day])\n",
    "        mae = mean_absolute_error(I,df['I_actual'] )\n",
    "        score_df.loc[len(score_df)] = [r,c,mae]\n",
    "score_df.sort_values(by='MAE').iloc[1]"
   ]
  },
  {
   "cell_type": "code",
   "execution_count": null,
   "id": "ce57f2d9-66f7-4465-8171-a0b080a53994",
   "metadata": {},
   "outputs": [],
   "source": [
    "r = 0.34 # Initial susceptable ratio\n",
    "c = 0.00117\n",
    "S[0] = r*p # initial susceptable population\n",
    "I[0] = df['I_actual'].copy()[0]\n",
    "V = df['V']\n",
    "for day in range(0,len(df) -1):\n",
    "    S[day+1], I[day+1] = next_day_SI_withC(S[day],df['I_actual'][day],V[day])\n",
    "\n",
    "fig = plt.figure()\n",
    "\n",
    "plt.plot(I, label='Predicted I', color = '#06688e')\n",
    "plt.plot(range(len(df)) , df['I_actual'] , label ='Actual I', color = '#000000')\n",
    "plt.title('Texas: SIR 1 Day, Optimized r=0.34 and c=0.00117')\n",
    "plt.xlabel('Day')\n",
    "plt.ylabel('Counts')\n",
    "plt.text(x=100,y=200_000, s= f\"MAE = {round(mean_absolute_error(I,df['I_actual']  )):,d}\")\n",
    "plt.text(x=90,y=150_000, s= f\"Mean Residual = {round(np.mean(I.values-df['I_actual'].values ) ):,d}\")\n",
    "plt.legend()\n",
    "plt.tight_layout()\n",
    "fig.savefig('images/one_day_optimal.png');"
   ]
  },
  {
   "cell_type": "markdown",
   "id": "0ef3fe7a-c757-4517-ad33-e81b43f975f2",
   "metadata": {},
   "source": [
    "Minimizing the mean residual leaves us with \n",
    "- a large MAE\n",
    "- an absurd values of $S_0$ of $34\\%$ of the uninfected population,\n",
    "- an absurd value of $c$ of about once every thousand days a person loses immunity from COVID. "
   ]
  },
  {
   "cell_type": "markdown",
   "id": "7e8b0184-03d1-42df-97a5-126980e07193",
   "metadata": {},
   "source": [
    "## 3.3 Conclusion on fits to Texas data\n",
    "I conclude that SIR with reasonable values of the parameters overestimate one day predictions. This is likely because of the model's inability to resolve the many changes made in social distancing, masking, hand washing, et cetera. "
   ]
  },
  {
   "cell_type": "markdown",
   "id": "fba8f2cf",
   "metadata": {},
   "source": [
    "# 4) Were there times where heard immunity was reached? "
   ]
  },
  {
   "cell_type": "markdown",
   "id": "2620c03f",
   "metadata": {},
   "source": [
    "That is, were there times when $S$ was less than $\\frac{b}{a}$? To answer this question, I will use the \"reasonable values of paramters\" described above, make one day predictions for $I$, and keep track of $S$.  "
   ]
  },
  {
   "cell_type": "code",
   "execution_count": null,
   "id": "5b80aa56-8403-41dc-a91a-c4ea02331107",
   "metadata": {},
   "outputs": [],
   "source": [
    "#re-run with reasonable paramters\n",
    "# initialize \n",
    "S = pd.Series( np.zeros((len(df),)) )\n",
    "I = pd.Series( np.zeros((len(df),)) )\n",
    "r = 0.8 # Initial susceptable ratio\n",
    "S[0] = r*p # initial susceptable population\n",
    "I[0] = df['I_actual'].copy()[0]\n",
    "V = df['V']\n",
    "for day in range(0,len(df) -1):\n",
    "    S[day+1], I[day+1] = next_day_SI_withC(S[day],df['I_actual'][day],V[day])\n",
    "\n",
    "plt.plot(S,label='Susceptable',color='r')\n",
    "# plt.plot(I,label='I')\n",
    "# plt.plot(p-S-I, label='R')\n",
    "plt.hlines(y=b/a,xmin=0,xmax=400, label = 'Herd Immunity Threshold', color='salmon')\n",
    "plt.legend();\n",
    "plt.title('Susceptable Population Under Herd Immunity Threshold \\nOnly After Mass Vaccination')\n",
    "plt.xlabel('Day')\n",
    "plt.ylabel('Counts')\n",
    "plt.tight_layout()\n",
    "plt.legend();"
   ]
  },
  {
   "cell_type": "code",
   "execution_count": null,
   "id": "7920d8ff-574f-4e59-9c26-fa7a0a64d6d3",
   "metadata": {},
   "outputs": [],
   "source": [
    "df['I_pred'] = list(I.copy())\n",
    "df['S_est'] = list(S)\n",
    "p = 29_145_505 # population (of Texas)\n",
    "b = 1/14 # Recovery rate for duration 14 days\n",
    "a = 2.8*b/p # t\n",
    "\n",
    "(df['S_est'] < b/a).sum()"
   ]
  },
  {
   "cell_type": "markdown",
   "id": "33c862c4",
   "metadata": {},
   "source": [
    "# 5) ARIMA 1 Day Predictions"
   ]
  },
  {
   "cell_type": "code",
   "execution_count": null,
   "id": "34923691",
   "metadata": {},
   "outputs": [],
   "source": [
    "from statsmodels.tsa.arima.model import ARIMA"
   ]
  },
  {
   "cell_type": "code",
   "execution_count": null,
   "id": "3365ee30",
   "metadata": {},
   "outputs": [],
   "source": [
    "# getting a single day's prediction before building a loop\n",
    "# ARIMA warnings suck\n",
    "import warnings\n",
    "warnings.filterwarnings('ignore')\n",
    "\n",
    "# lets do one day: \n",
    "day = 20\n",
    "y = df['I_actual'].copy() #nickname for brevity\n",
    "print(f'today is {y.index[day]}')\n",
    "# print(f\"The number of people infected is {y[y.index[day]]}\")\n",
    "# print(f'The days of the pandemic up to now were {y.index[0:day].values}')\n",
    "# print(f'The number of infected on those days was {y[y.index[0:day]]}')\n",
    "\n",
    "# train arima on those numbers and indices:\n",
    "arima = ARIMA( endog = y[y.index[0:day]], order =(1,0,0) )      \n",
    "model = arima.fit()\n",
    "\n",
    "print(f'We want to predict the number of infected on day {y.index[day+1]}')\n",
    "\n",
    "\n",
    "I_next = model.predict( start = y.index[day+1], end = y.index[day+1]   )\n",
    "print(f'ARIMA(1,0,0) predicts {I_next[0]}')"
   ]
  },
  {
   "cell_type": "code",
   "execution_count": null,
   "id": "ddb10810",
   "metadata": {},
   "outputs": [],
   "source": [
    "# building a loop to make one day predictions for ... almost every day\n",
    "y = df['I_actual'].copy()\n",
    "# initialize the series I \n",
    "I = pd.Series( np.zeros((len(df),)) )"
   ]
  },
  {
   "cell_type": "code",
   "execution_count": null,
   "id": "351880f6",
   "metadata": {},
   "outputs": [],
   "source": [
    "# choosing a value of p, putting in the initial p values of I as actual values\n",
    "p = 1"
   ]
  },
  {
   "cell_type": "code",
   "execution_count": null,
   "id": "d0e4f314",
   "metadata": {},
   "outputs": [],
   "source": [
    "I[0:p+1] = df['I_actual'][0:p+1]"
   ]
  },
  {
   "cell_type": "code",
   "execution_count": null,
   "id": "1510b2ae",
   "metadata": {},
   "outputs": [],
   "source": [
    "for day in range(p+2,len(df)): #len(df) -1 ): # need 3 days to get 2 points; will not work for p+1 or p\n",
    "    arima = ARIMA( endog = y[y.index[0:day]], order =(1,0,0) )      \n",
    "    model = arima.fit()\n",
    "    I[day+1] = model.predict( start = y.index[day+1], end = y.index[day+1]   )\n",
    "    "
   ]
  },
  {
   "cell_type": "code",
   "execution_count": null,
   "id": "e340c66b",
   "metadata": {},
   "outputs": [],
   "source": [
    "\n",
    "plt.plot(I, label='Predicted I')\n",
    "plt.plot(y.values, label='Actual I')\n",
    "plt.title('Arima(1,0,0) 1 Day Out Predictions of Infections')\n",
    "plt.xlabel('Day')\n",
    "plt.ylabel('Infected')\n",
    "plt.text(x=100,y=200_000, s= f\"MAE={round(mean_absolute_error(I,df['I_actual']  ),3)}\")\n",
    "plt.plot(y[y.index[HI]].values)\n",
    "plt.legend();"
   ]
  },
  {
   "cell_type": "markdown",
   "id": "6e40f2ba",
   "metadata": {},
   "source": [
    "# 6) SIR and ARIMA 1-day Predictions for all states"
   ]
  },
  {
   "cell_type": "code",
   "execution_count": null,
   "id": "b6ebcb0d",
   "metadata": {},
   "outputs": [],
   "source": [
    "states = [ 'AK', 'AL', 'AR', 'AZ', 'CA', 'CO', 'CT', 'DC', 'DE', 'FL', 'GA',\n",
    "          # 'HI', \n",
    "          'IA', 'ID', 'IL', 'IN', 'KS', 'KY', 'LA', 'MA', 'MD', 'ME',\n",
    "           'MI', 'MN', 'MO', 'MS', 'MT', 'NC', 'ND', 'NE', 'NH', 'NJ', 'NM',\n",
    "           'NV', 'NY', 'OH', 'OK', 'OR', 'PA', 'RI', 'SC', 'SD', 'TN', 'TX',\n",
    "           'UT', 'VA', 'VT', 'WA', 'WI', 'WV', 'WY']"
   ]
  },
  {
   "cell_type": "code",
   "execution_count": null,
   "id": "0bc45857",
   "metadata": {},
   "outputs": [],
   "source": [
    "df = pd.read_csv('../data/I_V_all_states.csv')\n",
    "df['key_0'] = pd.to_datetime(df['key_0'])\n",
    "df.set_index('key_0',inplace=True)\n"
   ]
  },
  {
   "cell_type": "code",
   "execution_count": null,
   "id": "0d97f090",
   "metadata": {},
   "outputs": [],
   "source": [
    "populations = { 'AK':733391,'AL':5024279, 'AR':3011524, 'AZ':7_151_502, \n",
    "               'CA': 39_538_223, 'CO':5773714, 'CT':3605944, 'DC':689545, \n",
    "               'DE':989948, 'FL':21_538_187, 'GA':10_711_908,\n",
    "               #            'HI', \n",
    "          'IA':3190369, 'ID':1839106, 'IL':12_812_508, 'IN':6785528, 'KS':2937880, \n",
    "               'KY':4505836, 'LA':4657757,'MA':7_029_917,'MD':6177224, \n",
    "               'ME':1362359,'MI':10_077_331,'MN':5706494,'MO':6154913, \n",
    "               'MS':2961279,'MT':1084225, 'NC':10_439_388, \n",
    "               'ND':779094, 'NE':1961504, 'NH':1377529,'NJ':9_288_994, \n",
    "               'NM':2117522,'NV':3104614, 'NY':20_201_249,'OH':11_799_448, \n",
    "               'OK':3959353, 'OR':4237256,'PA':13_002_700,'RI':1097379, \n",
    "               'SC':5118425, 'SD':886667, 'TN':6910840, 'TX':29_145_505,\n",
    "           'UT':3271616, 'VA':8_631_393, 'VT':643077,'WA':7_705_281, \n",
    "               'WI':5893718, 'WV':1793716,'WY':576851}"
   ]
  },
  {
   "cell_type": "markdown",
   "id": "46e86c44",
   "metadata": {},
   "source": [
    "## 6.1) SIR Predictions for all states"
   ]
  },
  {
   "cell_type": "code",
   "execution_count": null,
   "id": "8d65e2ee",
   "metadata": {},
   "outputs": [],
   "source": [
    "def next_day_SI_withC(S,I,V,p):\n",
    "    '''Predicts the number of infected tomorrow and number of susceptable tomorrow\n",
    "    from number of infrected today \n",
    "    and number susceptable today'''\n",
    "    #parameters \n",
    "    b = 1/14 # Recovery rate for duration 14 days\n",
    "    a = 2.8*b/p # transmission rate for reproduction number 2.8 and recovery rate 1/14\n",
    "    c = 1/1000 # rate of immunity loss\n",
    "    \n",
    "    S_next = S - a*S*I +c*(p-S-I) -V\n",
    "    I_next = I + a*S*I -b*I\n",
    "    return S_next,I_next"
   ]
  },
  {
   "cell_type": "code",
   "execution_count": null,
   "id": "d4a50d3e",
   "metadata": {},
   "outputs": [],
   "source": [
    "# initialize series\n",
    "S = pd.Series( np.zeros((len(df),)) )\n",
    "I = pd.Series( np.zeros((len(df),)) )\n",
    "r = 0.95 # Initial susceptable ratio\n",
    "c = 1/100\n"
   ]
  },
  {
   "cell_type": "code",
   "execution_count": null,
   "id": "c49b3888-daf6-4d12-93c1-bb9182f829d4",
   "metadata": {},
   "outputs": [],
   "source": [
    "# initialize \n",
    "for state in states: # this will become a for loop over states\n",
    "    S[0] = r*populations[state] # initial susceptable population\n",
    "    I[0] = df[f'{state}_I'].copy()[0]\n",
    "\n",
    "    for day in range(0,len(df) -1):\n",
    "        S[day+1], I[day+1] = next_day_SI_withC(S[day], #S\n",
    "                                               df[f'{state}_I'][day],  #I\n",
    "                                               df[f'{state}_V'][day], #V\n",
    "                                               populations[state]) # p\n",
    "    df[f'{state}_I_SIR'] = list(I)\n",
    "    df[f'{state}_S_SIR'] = list(S)"
   ]
  },
  {
   "cell_type": "code",
   "execution_count": null,
   "id": "acf710fd-a1e9-4762-9895-6d5b9c1baa51",
   "metadata": {},
   "outputs": [],
   "source": [
    "df.isnull().sum().sum()"
   ]
  },
  {
   "cell_type": "markdown",
   "id": "080c51f4",
   "metadata": {},
   "source": [
    "## 6.2) ARIMA predictions for all states"
   ]
  },
  {
   "cell_type": "code",
   "execution_count": null,
   "id": "b0741866",
   "metadata": {},
   "outputs": [],
   "source": [
    "from statsmodels.tsa.arima.model import ARIMA"
   ]
  },
  {
   "cell_type": "code",
   "execution_count": null,
   "id": "94175aa2",
   "metadata": {},
   "outputs": [],
   "source": [
    "for state in states:\n",
    "    # a loop to make one day predictions for ... almost every day\n",
    "    y = df[f'{state}_I'].copy()\n",
    "    # initialize the series I \n",
    "    I = pd.Series( np.zeros((len(df),))) \n",
    "\n",
    "    delay = 100\n",
    "    I[0:delay] = df[f'{state}_I'][0:delay]\n",
    "    for day in range(delay,len(df) -1 ): \n",
    "        arima = ARIMA( endog = y[y.index[0:day]], order =(3,2,0) )      \n",
    "        model = arima.fit()\n",
    "        I[day+1] = model.predict( start = y.index[day+1], end = y.index[day+1]   )\n",
    "    df[f'{state}_I_ARIMA'] = list(I) "
   ]
  },
  {
   "cell_type": "code",
   "execution_count": null,
   "id": "eda995bc",
   "metadata": {},
   "outputs": [],
   "source": [
    "df.head(1).T"
   ]
  },
  {
   "cell_type": "code",
   "execution_count": null,
   "id": "468b19b9",
   "metadata": {},
   "outputs": [],
   "source": [
    "df.to_csv('../data/shabang.csv')"
   ]
  },
  {
   "cell_type": "markdown",
   "id": "6ab5cad5",
   "metadata": {},
   "source": [
    "## Tableau friendly form "
   ]
  },
  {
   "cell_type": "code",
   "execution_count": null,
   "id": "54ec8ea4",
   "metadata": {},
   "outputs": [],
   "source": [
    "state_dfs =[]\n",
    "for state in states: #state ='AK'\n",
    "#     df.columns.str.contains(state) # a filter \n",
    "    five = df[df.columns[df.columns.str.contains(state)]]\n",
    "    column5 = five.columns.str.replace( f'{state}_','')\n",
    "    new = pd.DataFrame(data = five.values, columns=column5)\n",
    "    print(df.columns[df.columns.str.contains(state)])\n",
    "#     state_dfs.append(new)\n",
    "    \n",
    "# shabang_long = pd.concat(state_dfs)\n",
    "\n",
    "# shabang_long # I am defeated. "
   ]
  },
  {
   "cell_type": "code",
   "execution_count": null,
   "id": "1f928ac9",
   "metadata": {},
   "outputs": [],
   "source": [
    "df = pd.read_csv('../data/david/shabang.csv')\n",
    "df.columns[df.columns.str.contains('_S_')]"
   ]
  },
  {
   "cell_type": "code",
   "execution_count": null,
   "id": "7b1e5450",
   "metadata": {},
   "outputs": [],
   "source": [
    "populations = { 'AK':733391,'AL':5024279, 'AR':3011524, 'AZ':7_151_502, \n",
    "               'CA': 39_538_223, 'CO':5773714, 'CT':3605944, 'DC':689545, \n",
    "               'DE':989948, 'FL':21_538_187, 'GA':10_711_908,\n",
    "               #            'HI', \n",
    "               'IA':3190369, 'ID':1839106, 'IL':12_812_508, 'IN':6785528, 'KS':2937880, \n",
    "               'KY':4505836, 'LA':4657757,'MA':7_029_917,'MD':6177224, \n",
    "               'ME':1362359,'MI':10_077_331,'MN':5706494,'MO':6154913, \n",
    "               'MS':2961279,'MT':1084225, 'NC':10_439_388, \n",
    "               'ND':779094, 'NE':1961504, 'NH':1377529,'NJ':9_288_994, \n",
    "               'NM':2117522,'NV':3104614, 'NY':20_201_249,'OH':11_799_448, \n",
    "               'OK':3959353, 'OR':4237256,'PA':13_002_700,'RI':1097379, \n",
    "               'SC':5118425, 'SD':886667, 'TN':6910840, 'TX':29_145_505,\n",
    "               'UT':3271616, 'VA':8_631_393, 'VT':643077,'WA':7_705_281, \n",
    "               'WI':5893718, 'WV':1793716,'WY':576851}\n",
    "\n",
    "b = 1/14\n",
    "\n",
    "for state in populations.keys:\n",
    "    a = 2.8*b/populations[state]\n",
    "    df[f'{state}_HI'] = (df[f'{state}_S_SRI'] <= b/a ).astype(int)"
   ]
  }
 ],
 "metadata": {
  "kernelspec": {
   "display_name": "Python 3 (ipykernel)",
   "language": "python",
   "name": "python3"
  },
  "language_info": {
   "codemirror_mode": {
    "name": "ipython",
    "version": 3
   },
   "file_extension": ".py",
   "mimetype": "text/x-python",
   "name": "python",
   "nbconvert_exporter": "python",
   "pygments_lexer": "ipython3",
   "version": "3.9.7"
  }
 },
 "nbformat": 4,
 "nbformat_minor": 5
}
