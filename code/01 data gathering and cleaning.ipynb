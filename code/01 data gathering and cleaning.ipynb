{
 "cells": [
  {
   "cell_type": "markdown",
   "id": "77d50a48-61f0-45eb-977a-7cfbba34869a",
   "metadata": {},
   "source": [
    "<img src=\"../images/magic8ball.jpeg\"  style=\"float: left; margin: 20px; height: 100px\">\n",
    "\n",
    "# Magic 8 balls"
   ]
  },
  {
   "cell_type": "markdown",
   "id": "a365969d-bb09-41cb-8b1b-f8223bee75cb",
   "metadata": {},
   "source": [
    "## Data Gathering\n",
    "---"
   ]
  },
  {
   "cell_type": "markdown",
   "id": "f0014bb7-0353-4809-93e9-0284995fd6b3",
   "metadata": {},
   "source": [
    "#### Library imports"
   ]
  },
  {
   "cell_type": "code",
   "execution_count": 46,
   "id": "7f3dafb0-fbac-4d42-9419-8948005d4581",
   "metadata": {},
   "outputs": [],
   "source": [
    "import pandas as pd\n",
    "import numpy as np\n",
    "import matplotlib.pyplot as plt\n",
    "import requests\n",
    "import time\n",
    "from sklearn.metrics import mean_squared_error"
   ]
  },
  {
   "cell_type": "markdown",
   "id": "8b6df184-c4d8-425e-bd61-9e90e4d92776",
   "metadata": {},
   "source": [
    "#### Total covid cases for all 50 states"
   ]
  },
  {
   "cell_type": "markdown",
   "id": "203a6c9a-9871-4d72-99dd-67c83dc66255",
   "metadata": {},
   "source": [
    "Using the requests python Library, we fetched the total number of reported covid cases in all states from the first reported case, in Jan 23, 2020 to Dec 29, 2021."
   ]
  },
  {
   "cell_type": "code",
   "execution_count": 47,
   "id": "a9769471-b550-4e49-9501-818d61734f56",
   "metadata": {},
   "outputs": [],
   "source": [
    "#list of 51 US states \n",
    "states = [ 'AK', 'AL', 'AR', 'AZ', 'CA', 'CO', 'CT', 'DC', 'DE', 'FL', 'GA',\n",
    "           'HI', 'IA', 'ID', 'IL', 'IN', 'KS', 'KY', 'LA', 'MA', 'MD', 'ME',\n",
    "           'MI', 'MN', 'MO', 'MS', 'MT', 'NC', 'ND', 'NE', 'NH', 'NJ', 'NM',\n",
    "           'NV', 'NY', 'OH', 'OK', 'OR', 'PA', 'RI', 'SC', 'SD', 'TN', 'TX',\n",
    "           'UT', 'VA', 'VT', 'WA', 'WI', 'WV', 'WY']"
   ]
  },
  {
   "cell_type": "code",
   "execution_count": 48,
   "id": "c7313bd3-9485-414d-9d71-2a3d1c3167ad",
   "metadata": {},
   "outputs": [],
   "source": [
    "\n",
    "#create empty dataframe \n",
    "df = pd.DataFrame(columns = ['submission_date','state','tot_cases'])\n",
    "\n",
    "for state in states:\n",
    "    url = 'https://data.cdc.gov/resource/9mfq-cb36.json?$select=submission_date,state,tot_cases&$where=submission_date%3E=%222020-01-23%22AND%20submission_date%3C%222021-12-30%22AND%20state=%27' + state + '%27&$limit=105000&$offset=0'\n",
    "    res = requests.get(url)\n",
    "    data = res.json()\n",
    "    \n",
    "    #convert to dataframe\n",
    "    data = pd.DataFrame(data)\n",
    "    \n",
    "    #concat new dataframe with empty dataframe initialized above\n",
    "    df = pd.concat([df,data])\n",
    "    \n",
    "    #so not to get ban from the internet\n",
    "    time.sleep(3)"
   ]
  },
  {
   "cell_type": "code",
   "execution_count": 49,
   "id": "d1b8aa71-1f01-487e-b7f7-76fd0ab60fb7",
   "metadata": {
    "tags": []
   },
   "outputs": [
    {
     "data": {
      "text/html": [
       "<div>\n",
       "<style scoped>\n",
       "    .dataframe tbody tr th:only-of-type {\n",
       "        vertical-align: middle;\n",
       "    }\n",
       "\n",
       "    .dataframe tbody tr th {\n",
       "        vertical-align: top;\n",
       "    }\n",
       "\n",
       "    .dataframe thead th {\n",
       "        text-align: right;\n",
       "    }\n",
       "</style>\n",
       "<table border=\"1\" class=\"dataframe\">\n",
       "  <thead>\n",
       "    <tr style=\"text-align: right;\">\n",
       "      <th></th>\n",
       "      <th>submission_date</th>\n",
       "      <th>state</th>\n",
       "      <th>tot_cases</th>\n",
       "    </tr>\n",
       "  </thead>\n",
       "  <tbody>\n",
       "    <tr>\n",
       "      <th>0</th>\n",
       "      <td>2021-07-27T00:00:00.000</td>\n",
       "      <td>AK</td>\n",
       "      <td>71521</td>\n",
       "    </tr>\n",
       "    <tr>\n",
       "      <th>1</th>\n",
       "      <td>2020-04-16T00:00:00.000</td>\n",
       "      <td>AK</td>\n",
       "      <td>300</td>\n",
       "    </tr>\n",
       "    <tr>\n",
       "      <th>2</th>\n",
       "      <td>2021-02-25T00:00:00.000</td>\n",
       "      <td>AK</td>\n",
       "      <td>55950</td>\n",
       "    </tr>\n",
       "    <tr>\n",
       "      <th>3</th>\n",
       "      <td>2021-04-18T00:00:00.000</td>\n",
       "      <td>AK</td>\n",
       "      <td>63580</td>\n",
       "    </tr>\n",
       "    <tr>\n",
       "      <th>4</th>\n",
       "      <td>2021-11-05T00:00:00.000</td>\n",
       "      <td>AK</td>\n",
       "      <td>136822</td>\n",
       "    </tr>\n",
       "  </tbody>\n",
       "</table>\n",
       "</div>"
      ],
      "text/plain": [
       "           submission_date state tot_cases\n",
       "0  2021-07-27T00:00:00.000    AK     71521\n",
       "1  2020-04-16T00:00:00.000    AK       300\n",
       "2  2021-02-25T00:00:00.000    AK     55950\n",
       "3  2021-04-18T00:00:00.000    AK     63580\n",
       "4  2021-11-05T00:00:00.000    AK    136822"
      ]
     },
     "execution_count": 49,
     "metadata": {},
     "output_type": "execute_result"
    }
   ],
   "source": [
    "df.head()"
   ]
  },
  {
   "cell_type": "markdown",
   "id": "8d88b333-0b14-437e-abe9-a91e30d1c0e4",
   "metadata": {},
   "source": [
    "#### Export dataframe for all the states"
   ]
  },
  {
   "cell_type": "markdown",
   "id": "9a873759-74c1-4256-b543-4da23031e702",
   "metadata": {},
   "source": [
    "We exported the raw dataframe so we won't need to make repeated API requests"
   ]
  },
  {
   "cell_type": "code",
   "execution_count": 50,
   "id": "c0ba2643-a2a6-4a7d-8113-6caad3137cf5",
   "metadata": {},
   "outputs": [],
   "source": [
    "df.to_csv('../data/afolabi/all_states_raw.csv', index=False)"
   ]
  },
  {
   "cell_type": "markdown",
   "id": "6094f88a-b1a4-4287-919a-ad0c10d890de",
   "metadata": {},
   "source": [
    "#### Re-import the csv"
   ]
  },
  {
   "cell_type": "code",
   "execution_count": 51,
   "id": "4bc19901-153f-4207-acf2-b184e7493b73",
   "metadata": {},
   "outputs": [
    {
     "data": {
      "text/html": [
       "<div>\n",
       "<style scoped>\n",
       "    .dataframe tbody tr th:only-of-type {\n",
       "        vertical-align: middle;\n",
       "    }\n",
       "\n",
       "    .dataframe tbody tr th {\n",
       "        vertical-align: top;\n",
       "    }\n",
       "\n",
       "    .dataframe thead th {\n",
       "        text-align: right;\n",
       "    }\n",
       "</style>\n",
       "<table border=\"1\" class=\"dataframe\">\n",
       "  <thead>\n",
       "    <tr style=\"text-align: right;\">\n",
       "      <th></th>\n",
       "      <th>submission_date</th>\n",
       "      <th>state</th>\n",
       "      <th>tot_cases</th>\n",
       "    </tr>\n",
       "  </thead>\n",
       "  <tbody>\n",
       "    <tr>\n",
       "      <th>0</th>\n",
       "      <td>2021-07-27T00:00:00.000</td>\n",
       "      <td>AK</td>\n",
       "      <td>71521</td>\n",
       "    </tr>\n",
       "    <tr>\n",
       "      <th>1</th>\n",
       "      <td>2020-04-16T00:00:00.000</td>\n",
       "      <td>AK</td>\n",
       "      <td>300</td>\n",
       "    </tr>\n",
       "  </tbody>\n",
       "</table>\n",
       "</div>"
      ],
      "text/plain": [
       "           submission_date state  tot_cases\n",
       "0  2021-07-27T00:00:00.000    AK      71521\n",
       "1  2020-04-16T00:00:00.000    AK        300"
      ]
     },
     "execution_count": 51,
     "metadata": {},
     "output_type": "execute_result"
    }
   ],
   "source": [
    "df = pd.read_csv('../data/afolabi/all_states_raw.csv')\n",
    "df.head(2)"
   ]
  },
  {
   "cell_type": "markdown",
   "id": "709e704a-c649-468c-9ef1-7575207ddb62",
   "metadata": {},
   "source": [
    "#### Change the date column to datetime format and make index"
   ]
  },
  {
   "cell_type": "markdown",
   "id": "d106a565-196a-46ad-b623-72f28a891a6f",
   "metadata": {},
   "source": [
    "- Using the date time library, convert the submission_date column to date time format\n",
    "- Rename submisison_date as day\n",
    "- Convert the tot_cases from object type to float"
   ]
  },
  {
   "cell_type": "code",
   "execution_count": 52,
   "id": "b2cc36ab-c256-411d-aeb6-cceec405f2da",
   "metadata": {},
   "outputs": [],
   "source": [
    "# From David's notebook\n",
    "\n",
    "df['submission_date'] = pd.to_datetime(df['submission_date'])\n",
    "df['tot_cases'] = df['tot_cases'].astype(float)\n",
    "\n",
    "#create a data frame for infections\n",
    "#create an index: \n",
    "days = (df[df['state'] == 'AK']).sort_values(by='submission_date')['submission_date'].values"
   ]
  },
  {
   "cell_type": "code",
   "execution_count": 53,
   "id": "69cdf44c-8a61-4520-9e06-5b16cbb0d65c",
   "metadata": {},
   "outputs": [
    {
     "data": {
      "text/html": [
       "<div>\n",
       "<style scoped>\n",
       "    .dataframe tbody tr th:only-of-type {\n",
       "        vertical-align: middle;\n",
       "    }\n",
       "\n",
       "    .dataframe tbody tr th {\n",
       "        vertical-align: top;\n",
       "    }\n",
       "\n",
       "    .dataframe thead th {\n",
       "        text-align: right;\n",
       "    }\n",
       "</style>\n",
       "<table border=\"1\" class=\"dataframe\">\n",
       "  <thead>\n",
       "    <tr style=\"text-align: right;\">\n",
       "      <th></th>\n",
       "      <th>submission_date</th>\n",
       "      <th>state</th>\n",
       "      <th>tot_cases</th>\n",
       "    </tr>\n",
       "  </thead>\n",
       "  <tbody>\n",
       "    <tr>\n",
       "      <th>0</th>\n",
       "      <td>2021-07-27</td>\n",
       "      <td>AK</td>\n",
       "      <td>71521.0</td>\n",
       "    </tr>\n",
       "    <tr>\n",
       "      <th>1</th>\n",
       "      <td>2020-04-16</td>\n",
       "      <td>AK</td>\n",
       "      <td>300.0</td>\n",
       "    </tr>\n",
       "  </tbody>\n",
       "</table>\n",
       "</div>"
      ],
      "text/plain": [
       "  submission_date state  tot_cases\n",
       "0      2021-07-27    AK    71521.0\n",
       "1      2020-04-16    AK      300.0"
      ]
     },
     "execution_count": 53,
     "metadata": {},
     "output_type": "execute_result"
    }
   ],
   "source": [
    "df.head(2)"
   ]
  },
  {
   "cell_type": "markdown",
   "id": "387f99ba-b088-40d9-842c-f8077a52d47b",
   "metadata": {},
   "source": [
    "Create a new dataframe called infected and set days as index"
   ]
  },
  {
   "cell_type": "code",
   "execution_count": 54,
   "id": "eb65ce4e-4fbf-471d-bf29-4787bcbb2c46",
   "metadata": {},
   "outputs": [],
   "source": [
    "infected = pd.DataFrame(index = days)"
   ]
  },
  {
   "cell_type": "markdown",
   "id": "d5025004-4115-4c8d-bc55-d9cabca09748",
   "metadata": {},
   "source": [
    "For easy use in Tableau, set each state as it's own row"
   ]
  },
  {
   "cell_type": "code",
   "execution_count": 55,
   "id": "f1386c80-cd0e-4d5a-ac27-dc71a596fd8b",
   "metadata": {},
   "outputs": [
    {
     "data": {
      "text/html": [
       "<div>\n",
       "<style scoped>\n",
       "    .dataframe tbody tr th:only-of-type {\n",
       "        vertical-align: middle;\n",
       "    }\n",
       "\n",
       "    .dataframe tbody tr th {\n",
       "        vertical-align: top;\n",
       "    }\n",
       "\n",
       "    .dataframe thead th {\n",
       "        text-align: right;\n",
       "    }\n",
       "</style>\n",
       "<table border=\"1\" class=\"dataframe\">\n",
       "  <thead>\n",
       "    <tr style=\"text-align: right;\">\n",
       "      <th></th>\n",
       "      <th>AK_I</th>\n",
       "      <th>AL_I</th>\n",
       "      <th>AR_I</th>\n",
       "      <th>AZ_I</th>\n",
       "      <th>CA_I</th>\n",
       "      <th>CO_I</th>\n",
       "      <th>CT_I</th>\n",
       "      <th>DC_I</th>\n",
       "      <th>DE_I</th>\n",
       "      <th>FL_I</th>\n",
       "      <th>...</th>\n",
       "      <th>SD_I</th>\n",
       "      <th>TN_I</th>\n",
       "      <th>TX_I</th>\n",
       "      <th>UT_I</th>\n",
       "      <th>VA_I</th>\n",
       "      <th>VT_I</th>\n",
       "      <th>WA_I</th>\n",
       "      <th>WI_I</th>\n",
       "      <th>WV_I</th>\n",
       "      <th>WY_I</th>\n",
       "    </tr>\n",
       "  </thead>\n",
       "  <tbody>\n",
       "    <tr>\n",
       "      <th>2020-01-23</th>\n",
       "      <td>0.0</td>\n",
       "      <td>0.0</td>\n",
       "      <td>0.0</td>\n",
       "      <td>1.0</td>\n",
       "      <td>6.0</td>\n",
       "      <td>0.0</td>\n",
       "      <td>0.0</td>\n",
       "      <td>0.0</td>\n",
       "      <td>0.0</td>\n",
       "      <td>0.0</td>\n",
       "      <td>...</td>\n",
       "      <td>0.0</td>\n",
       "      <td>0.0</td>\n",
       "      <td>0.0</td>\n",
       "      <td>0.0</td>\n",
       "      <td>0.0</td>\n",
       "      <td>0.0</td>\n",
       "      <td>0.0</td>\n",
       "      <td>0.0</td>\n",
       "      <td>0.0</td>\n",
       "      <td>0.0</td>\n",
       "    </tr>\n",
       "    <tr>\n",
       "      <th>2020-01-24</th>\n",
       "      <td>0.0</td>\n",
       "      <td>0.0</td>\n",
       "      <td>0.0</td>\n",
       "      <td>1.0</td>\n",
       "      <td>6.0</td>\n",
       "      <td>0.0</td>\n",
       "      <td>0.0</td>\n",
       "      <td>0.0</td>\n",
       "      <td>0.0</td>\n",
       "      <td>0.0</td>\n",
       "      <td>...</td>\n",
       "      <td>0.0</td>\n",
       "      <td>0.0</td>\n",
       "      <td>0.0</td>\n",
       "      <td>0.0</td>\n",
       "      <td>0.0</td>\n",
       "      <td>0.0</td>\n",
       "      <td>0.0</td>\n",
       "      <td>0.0</td>\n",
       "      <td>0.0</td>\n",
       "      <td>0.0</td>\n",
       "    </tr>\n",
       "  </tbody>\n",
       "</table>\n",
       "<p>2 rows × 50 columns</p>\n",
       "</div>"
      ],
      "text/plain": [
       "            AK_I  AL_I  AR_I  AZ_I  CA_I  CO_I  CT_I  DC_I  DE_I  FL_I  ...  \\\n",
       "2020-01-23   0.0   0.0   0.0   1.0   6.0   0.0   0.0   0.0   0.0   0.0  ...   \n",
       "2020-01-24   0.0   0.0   0.0   1.0   6.0   0.0   0.0   0.0   0.0   0.0  ...   \n",
       "\n",
       "            SD_I  TN_I  TX_I  UT_I  VA_I  VT_I  WA_I  WI_I  WV_I  WY_I  \n",
       "2020-01-23   0.0   0.0   0.0   0.0   0.0   0.0   0.0   0.0   0.0   0.0  \n",
       "2020-01-24   0.0   0.0   0.0   0.0   0.0   0.0   0.0   0.0   0.0   0.0  \n",
       "\n",
       "[2 rows x 50 columns]"
      ]
     },
     "execution_count": 55,
     "metadata": {},
     "output_type": "execute_result"
    }
   ],
   "source": [
    "states = [ 'AK', 'AL', 'AR', 'AZ', 'CA', 'CO', 'CT', 'DC', 'DE', 'FL', 'GA',\n",
    "#            'HI', \n",
    "          'IA', 'ID', 'IL', 'IN', 'KS', 'KY', 'LA', 'MA', 'MD', 'ME',\n",
    "           'MI', 'MN', 'MO', 'MS', 'MT', 'NC', 'ND', 'NE', 'NH', 'NJ', 'NM',\n",
    "           'NV', 'NY', 'OH', 'OK', 'OR', 'PA', 'RI', 'SC', 'SD', 'TN', 'TX',\n",
    "           'UT', 'VA', 'VT', 'WA', 'WI', 'WV', 'WY']\n",
    "for state in states:\n",
    "    #print(f'trying {state}')\n",
    "    infected[f'{state}_I'] =  list((df[df['state'] == state]).sort_values(by='submission_date')['tot_cases'].diff(14))\n",
    "    infected[f'{state}_I'][0:14] = infected[f'{state}_I'][15].copy()\n",
    "infected.head(2)"
   ]
  },
  {
   "cell_type": "code",
   "execution_count": 56,
   "id": "a02ba573-6990-415b-81fe-e69471453d8f",
   "metadata": {},
   "outputs": [
    {
     "data": {
      "text/html": [
       "<div>\n",
       "<style scoped>\n",
       "    .dataframe tbody tr th:only-of-type {\n",
       "        vertical-align: middle;\n",
       "    }\n",
       "\n",
       "    .dataframe tbody tr th {\n",
       "        vertical-align: top;\n",
       "    }\n",
       "\n",
       "    .dataframe thead th {\n",
       "        text-align: right;\n",
       "    }\n",
       "</style>\n",
       "<table border=\"1\" class=\"dataframe\">\n",
       "  <thead>\n",
       "    <tr style=\"text-align: right;\">\n",
       "      <th></th>\n",
       "      <th>AK_I</th>\n",
       "      <th>AL_I</th>\n",
       "      <th>AR_I</th>\n",
       "      <th>AZ_I</th>\n",
       "      <th>CA_I</th>\n",
       "      <th>CO_I</th>\n",
       "      <th>CT_I</th>\n",
       "      <th>DC_I</th>\n",
       "      <th>DE_I</th>\n",
       "      <th>FL_I</th>\n",
       "      <th>...</th>\n",
       "      <th>SD_I</th>\n",
       "      <th>TN_I</th>\n",
       "      <th>TX_I</th>\n",
       "      <th>UT_I</th>\n",
       "      <th>VA_I</th>\n",
       "      <th>VT_I</th>\n",
       "      <th>WA_I</th>\n",
       "      <th>WI_I</th>\n",
       "      <th>WV_I</th>\n",
       "      <th>WY_I</th>\n",
       "    </tr>\n",
       "  </thead>\n",
       "  <tbody>\n",
       "    <tr>\n",
       "      <th>2020-01-23</th>\n",
       "      <td>0.0</td>\n",
       "      <td>0.0</td>\n",
       "      <td>0.0</td>\n",
       "      <td>1.0</td>\n",
       "      <td>6.0</td>\n",
       "      <td>0.0</td>\n",
       "      <td>0.0</td>\n",
       "      <td>0.0</td>\n",
       "      <td>0.0</td>\n",
       "      <td>0.0</td>\n",
       "      <td>...</td>\n",
       "      <td>0.0</td>\n",
       "      <td>0.0</td>\n",
       "      <td>0.0</td>\n",
       "      <td>0.0</td>\n",
       "      <td>0.0</td>\n",
       "      <td>0.0</td>\n",
       "      <td>0.0</td>\n",
       "      <td>0.0</td>\n",
       "      <td>0.0</td>\n",
       "      <td>0.0</td>\n",
       "    </tr>\n",
       "    <tr>\n",
       "      <th>2020-01-24</th>\n",
       "      <td>0.0</td>\n",
       "      <td>0.0</td>\n",
       "      <td>0.0</td>\n",
       "      <td>1.0</td>\n",
       "      <td>6.0</td>\n",
       "      <td>0.0</td>\n",
       "      <td>0.0</td>\n",
       "      <td>0.0</td>\n",
       "      <td>0.0</td>\n",
       "      <td>0.0</td>\n",
       "      <td>...</td>\n",
       "      <td>0.0</td>\n",
       "      <td>0.0</td>\n",
       "      <td>0.0</td>\n",
       "      <td>0.0</td>\n",
       "      <td>0.0</td>\n",
       "      <td>0.0</td>\n",
       "      <td>0.0</td>\n",
       "      <td>0.0</td>\n",
       "      <td>0.0</td>\n",
       "      <td>0.0</td>\n",
       "    </tr>\n",
       "  </tbody>\n",
       "</table>\n",
       "<p>2 rows × 50 columns</p>\n",
       "</div>"
      ],
      "text/plain": [
       "            AK_I  AL_I  AR_I  AZ_I  CA_I  CO_I  CT_I  DC_I  DE_I  FL_I  ...  \\\n",
       "2020-01-23   0.0   0.0   0.0   1.0   6.0   0.0   0.0   0.0   0.0   0.0  ...   \n",
       "2020-01-24   0.0   0.0   0.0   1.0   6.0   0.0   0.0   0.0   0.0   0.0  ...   \n",
       "\n",
       "            SD_I  TN_I  TX_I  UT_I  VA_I  VT_I  WA_I  WI_I  WV_I  WY_I  \n",
       "2020-01-23   0.0   0.0   0.0   0.0   0.0   0.0   0.0   0.0   0.0   0.0  \n",
       "2020-01-24   0.0   0.0   0.0   0.0   0.0   0.0   0.0   0.0   0.0   0.0  \n",
       "\n",
       "[2 rows x 50 columns]"
      ]
     },
     "execution_count": 56,
     "metadata": {},
     "output_type": "execute_result"
    }
   ],
   "source": [
    "infected.head(2)"
   ]
  },
  {
   "cell_type": "markdown",
   "id": "31f71f46-f05f-43fa-9f52-52473573a564",
   "metadata": {},
   "source": [
    "Export infected dataframe as csv to data folder"
   ]
  },
  {
   "cell_type": "code",
   "execution_count": 57,
   "id": "202b6399-6ad9-49b1-a50d-356e1921efa3",
   "metadata": {},
   "outputs": [],
   "source": [
    "infected.to_csv('../data/infected_all_states.csv')"
   ]
  },
  {
   "cell_type": "markdown",
   "id": "353cd0e6-5241-4c10-8f7e-678dab0135b2",
   "metadata": {},
   "source": [
    "#### Total vaccinated "
   ]
  },
  {
   "cell_type": "markdown",
   "id": "5e6a2076-3580-45c8-a421-68e8f5a18aad",
   "metadata": {},
   "source": [
    "Using the requests API, get the the total number of vaccinated people in all states"
   ]
  },
  {
   "cell_type": "code",
   "execution_count": 58,
   "id": "21fa0650-24c4-448a-aa7b-bed8d0c4f809",
   "metadata": {},
   "outputs": [],
   "source": [
    "# from David\n",
    "\n",
    "# initialize a df for vax\n",
    "vax = pd.DataFrame()\n",
    "\n",
    "states = [ 'AK', 'AL', 'AR', 'AZ', 'CA', 'CO', 'CT', 'DC', 'DE', 'FL', 'GA',\n",
    "#            'HI', \n",
    "          'IA', 'ID', 'IL', 'IN', 'KS', 'KY', 'LA', 'MA', 'MD', 'ME',\n",
    "           'MI', 'MN', 'MO', 'MS', 'MT', 'NC', 'ND', 'NE', 'NH', 'NJ', 'NM',\n",
    "           'NV', 'NY', 'OH', 'OK', 'OR', 'PA', 'RI', 'SC', 'SD', 'TN', 'TX',\n",
    "           'UT', 'VA', 'VT', 'WA', 'WI', 'WV', 'WY']\n",
    "for state in states:\n",
    "    time.sleep(1)\n",
    "    url_vax = f'https://data.cdc.gov/resource/8xkx-amqh.json?$select=Date,Recip_State,Recip_County,Series_Complete_Yes&$where=Date%3E=%222020-12-01%22AND%20Date%3C%222022-03-21%22AND%20Recip_State=%27{state}%27&$limit=105000&$offset=0'\n",
    "    #print(f'trying {state}')\n",
    "    res_vax = requests.get(url_vax)\n",
    "    if res_vax.status_code !=200:\n",
    "        print(f'Status not ok for {state}')\n",
    "        break\n",
    "    data_vax= res_vax.json()\n",
    "    df = pd.DataFrame(data_vax)\n",
    "    # Make the data numerical and date time\n",
    "    df['Date'] = pd.to_datetime(df['Date'])\n",
    "    df['Series_Complete_Yes'] = df['Series_Complete_Yes'].astype(float)\n",
    "\n",
    "    # sum over counties to get state level data\n",
    "    df = df.groupby('Date').sum().sort_index()\n",
    "\n",
    "    # write to the vax df\n",
    "    vax[f'{state}_V'] = df['Series_Complete_Yes'].diff()\n",
    "    vax[f'{state}_V'][0] = 0\n",
    "\n",
    "    del df['Series_Complete_Yes']\n"
   ]
  },
  {
   "cell_type": "code",
   "execution_count": 59,
   "id": "87949026-7ccd-482e-8bb1-f76972f7dcd6",
   "metadata": {},
   "outputs": [
    {
     "data": {
      "text/html": [
       "<div>\n",
       "<style scoped>\n",
       "    .dataframe tbody tr th:only-of-type {\n",
       "        vertical-align: middle;\n",
       "    }\n",
       "\n",
       "    .dataframe tbody tr th {\n",
       "        vertical-align: top;\n",
       "    }\n",
       "\n",
       "    .dataframe thead th {\n",
       "        text-align: right;\n",
       "    }\n",
       "</style>\n",
       "<table border=\"1\" class=\"dataframe\">\n",
       "  <thead>\n",
       "    <tr style=\"text-align: right;\">\n",
       "      <th></th>\n",
       "      <th>AK_V</th>\n",
       "      <th>AL_V</th>\n",
       "      <th>AR_V</th>\n",
       "      <th>AZ_V</th>\n",
       "      <th>CA_V</th>\n",
       "      <th>CO_V</th>\n",
       "      <th>CT_V</th>\n",
       "      <th>DC_V</th>\n",
       "      <th>DE_V</th>\n",
       "      <th>FL_V</th>\n",
       "      <th>...</th>\n",
       "      <th>SD_V</th>\n",
       "      <th>TN_V</th>\n",
       "      <th>TX_V</th>\n",
       "      <th>UT_V</th>\n",
       "      <th>VA_V</th>\n",
       "      <th>VT_V</th>\n",
       "      <th>WA_V</th>\n",
       "      <th>WI_V</th>\n",
       "      <th>WV_V</th>\n",
       "      <th>WY_V</th>\n",
       "    </tr>\n",
       "    <tr>\n",
       "      <th>Date</th>\n",
       "      <th></th>\n",
       "      <th></th>\n",
       "      <th></th>\n",
       "      <th></th>\n",
       "      <th></th>\n",
       "      <th></th>\n",
       "      <th></th>\n",
       "      <th></th>\n",
       "      <th></th>\n",
       "      <th></th>\n",
       "      <th></th>\n",
       "      <th></th>\n",
       "      <th></th>\n",
       "      <th></th>\n",
       "      <th></th>\n",
       "      <th></th>\n",
       "      <th></th>\n",
       "      <th></th>\n",
       "      <th></th>\n",
       "      <th></th>\n",
       "      <th></th>\n",
       "    </tr>\n",
       "  </thead>\n",
       "  <tbody>\n",
       "    <tr>\n",
       "      <th>2020-12-13</th>\n",
       "      <td>0.0</td>\n",
       "      <td>0.0</td>\n",
       "      <td>0.0</td>\n",
       "      <td>0.0</td>\n",
       "      <td>0.0</td>\n",
       "      <td>0.0</td>\n",
       "      <td>0.0</td>\n",
       "      <td>0.0</td>\n",
       "      <td>0.0</td>\n",
       "      <td>0.0</td>\n",
       "      <td>...</td>\n",
       "      <td>0.0</td>\n",
       "      <td>0.0</td>\n",
       "      <td>0.0</td>\n",
       "      <td>0.0</td>\n",
       "      <td>0.0</td>\n",
       "      <td>0.0</td>\n",
       "      <td>0.0</td>\n",
       "      <td>0.0</td>\n",
       "      <td>0.0</td>\n",
       "      <td>0.0</td>\n",
       "    </tr>\n",
       "    <tr>\n",
       "      <th>2020-12-14</th>\n",
       "      <td>0.0</td>\n",
       "      <td>0.0</td>\n",
       "      <td>0.0</td>\n",
       "      <td>0.0</td>\n",
       "      <td>0.0</td>\n",
       "      <td>0.0</td>\n",
       "      <td>0.0</td>\n",
       "      <td>0.0</td>\n",
       "      <td>0.0</td>\n",
       "      <td>0.0</td>\n",
       "      <td>...</td>\n",
       "      <td>0.0</td>\n",
       "      <td>0.0</td>\n",
       "      <td>NaN</td>\n",
       "      <td>0.0</td>\n",
       "      <td>0.0</td>\n",
       "      <td>0.0</td>\n",
       "      <td>0.0</td>\n",
       "      <td>0.0</td>\n",
       "      <td>0.0</td>\n",
       "      <td>0.0</td>\n",
       "    </tr>\n",
       "  </tbody>\n",
       "</table>\n",
       "<p>2 rows × 50 columns</p>\n",
       "</div>"
      ],
      "text/plain": [
       "            AK_V  AL_V  AR_V  AZ_V  CA_V  CO_V  CT_V  DC_V  DE_V  FL_V  ...  \\\n",
       "Date                                                                    ...   \n",
       "2020-12-13   0.0   0.0   0.0   0.0   0.0   0.0   0.0   0.0   0.0   0.0  ...   \n",
       "2020-12-14   0.0   0.0   0.0   0.0   0.0   0.0   0.0   0.0   0.0   0.0  ...   \n",
       "\n",
       "            SD_V  TN_V  TX_V  UT_V  VA_V  VT_V  WA_V  WI_V  WV_V  WY_V  \n",
       "Date                                                                    \n",
       "2020-12-13   0.0   0.0   0.0   0.0   0.0   0.0   0.0   0.0   0.0   0.0  \n",
       "2020-12-14   0.0   0.0   NaN   0.0   0.0   0.0   0.0   0.0   0.0   0.0  \n",
       "\n",
       "[2 rows x 50 columns]"
      ]
     },
     "execution_count": 59,
     "metadata": {},
     "output_type": "execute_result"
    }
   ],
   "source": [
    "vax.head(2)"
   ]
  },
  {
   "cell_type": "markdown",
   "id": "71b7e8d8-75b9-4a59-8883-98305bbcf152",
   "metadata": {},
   "source": [
    "#### Merging infected dataframe and vaccinated dataframe"
   ]
  },
  {
   "cell_type": "code",
   "execution_count": 60,
   "id": "16ed7d9b-5f83-4608-93ee-5fcf3f92b498",
   "metadata": {},
   "outputs": [],
   "source": [
    "vax = pd.read_csv('../data/all_state_vax.csv')\n",
    "vax['Date'] = pd.to_datetime(vax['Date'])\n",
    "vax.set_index('Date',inplace=True)"
   ]
  },
  {
   "cell_type": "code",
   "execution_count": 61,
   "id": "827b7205-985a-4ba9-b8b4-8eb9d8056c41",
   "metadata": {},
   "outputs": [
    {
     "data": {
      "text/html": [
       "<div>\n",
       "<style scoped>\n",
       "    .dataframe tbody tr th:only-of-type {\n",
       "        vertical-align: middle;\n",
       "    }\n",
       "\n",
       "    .dataframe tbody tr th {\n",
       "        vertical-align: top;\n",
       "    }\n",
       "\n",
       "    .dataframe thead th {\n",
       "        text-align: right;\n",
       "    }\n",
       "</style>\n",
       "<table border=\"1\" class=\"dataframe\">\n",
       "  <thead>\n",
       "    <tr style=\"text-align: right;\">\n",
       "      <th></th>\n",
       "      <th>AK_V</th>\n",
       "      <th>AL_V</th>\n",
       "      <th>AR_V</th>\n",
       "      <th>AZ_V</th>\n",
       "      <th>CA_V</th>\n",
       "      <th>CO_V</th>\n",
       "      <th>CT_V</th>\n",
       "      <th>DC_V</th>\n",
       "      <th>DE_V</th>\n",
       "      <th>FL_V</th>\n",
       "      <th>...</th>\n",
       "      <th>SD_V</th>\n",
       "      <th>TN_V</th>\n",
       "      <th>TX_V</th>\n",
       "      <th>UT_V</th>\n",
       "      <th>VA_V</th>\n",
       "      <th>VT_V</th>\n",
       "      <th>WA_V</th>\n",
       "      <th>WI_V</th>\n",
       "      <th>WV_V</th>\n",
       "      <th>WY_V</th>\n",
       "    </tr>\n",
       "    <tr>\n",
       "      <th>Date</th>\n",
       "      <th></th>\n",
       "      <th></th>\n",
       "      <th></th>\n",
       "      <th></th>\n",
       "      <th></th>\n",
       "      <th></th>\n",
       "      <th></th>\n",
       "      <th></th>\n",
       "      <th></th>\n",
       "      <th></th>\n",
       "      <th></th>\n",
       "      <th></th>\n",
       "      <th></th>\n",
       "      <th></th>\n",
       "      <th></th>\n",
       "      <th></th>\n",
       "      <th></th>\n",
       "      <th></th>\n",
       "      <th></th>\n",
       "      <th></th>\n",
       "      <th></th>\n",
       "    </tr>\n",
       "  </thead>\n",
       "  <tbody>\n",
       "    <tr>\n",
       "      <th>2020-12-13</th>\n",
       "      <td>0.0</td>\n",
       "      <td>0.0</td>\n",
       "      <td>0.0</td>\n",
       "      <td>0.0</td>\n",
       "      <td>0.0</td>\n",
       "      <td>0.0</td>\n",
       "      <td>0.0</td>\n",
       "      <td>0.0</td>\n",
       "      <td>0.0</td>\n",
       "      <td>0.0</td>\n",
       "      <td>...</td>\n",
       "      <td>0.0</td>\n",
       "      <td>0.0</td>\n",
       "      <td>0.0</td>\n",
       "      <td>0.0</td>\n",
       "      <td>0.0</td>\n",
       "      <td>0.0</td>\n",
       "      <td>0.0</td>\n",
       "      <td>0.0</td>\n",
       "      <td>0.0</td>\n",
       "      <td>0.0</td>\n",
       "    </tr>\n",
       "    <tr>\n",
       "      <th>2020-12-14</th>\n",
       "      <td>0.0</td>\n",
       "      <td>0.0</td>\n",
       "      <td>0.0</td>\n",
       "      <td>0.0</td>\n",
       "      <td>0.0</td>\n",
       "      <td>0.0</td>\n",
       "      <td>0.0</td>\n",
       "      <td>0.0</td>\n",
       "      <td>0.0</td>\n",
       "      <td>0.0</td>\n",
       "      <td>...</td>\n",
       "      <td>0.0</td>\n",
       "      <td>0.0</td>\n",
       "      <td>NaN</td>\n",
       "      <td>0.0</td>\n",
       "      <td>0.0</td>\n",
       "      <td>0.0</td>\n",
       "      <td>0.0</td>\n",
       "      <td>0.0</td>\n",
       "      <td>0.0</td>\n",
       "      <td>0.0</td>\n",
       "    </tr>\n",
       "  </tbody>\n",
       "</table>\n",
       "<p>2 rows × 50 columns</p>\n",
       "</div>"
      ],
      "text/plain": [
       "            AK_V  AL_V  AR_V  AZ_V  CA_V  CO_V  CT_V  DC_V  DE_V  FL_V  ...  \\\n",
       "Date                                                                    ...   \n",
       "2020-12-13   0.0   0.0   0.0   0.0   0.0   0.0   0.0   0.0   0.0   0.0  ...   \n",
       "2020-12-14   0.0   0.0   0.0   0.0   0.0   0.0   0.0   0.0   0.0   0.0  ...   \n",
       "\n",
       "            SD_V  TN_V  TX_V  UT_V  VA_V  VT_V  WA_V  WI_V  WV_V  WY_V  \n",
       "Date                                                                    \n",
       "2020-12-13   0.0   0.0   0.0   0.0   0.0   0.0   0.0   0.0   0.0   0.0  \n",
       "2020-12-14   0.0   0.0   NaN   0.0   0.0   0.0   0.0   0.0   0.0   0.0  \n",
       "\n",
       "[2 rows x 50 columns]"
      ]
     },
     "execution_count": 61,
     "metadata": {},
     "output_type": "execute_result"
    }
   ],
   "source": [
    "vax.head(2)"
   ]
  },
  {
   "cell_type": "code",
   "execution_count": 62,
   "id": "80e0011d-cd21-4df9-a92a-d9fa7b988359",
   "metadata": {},
   "outputs": [],
   "source": [
    "infected_vaxed = pd.merge(infected, vax, \n",
    "         left_on= infected.index, \n",
    "         right_on= vax.index, \n",
    "         how='inner').set_index('key_0').fillna(0)\n"
   ]
  },
  {
   "cell_type": "markdown",
   "id": "bbf1243a-2f2c-4ce6-ad83-161e555739b8",
   "metadata": {},
   "source": [
    "#### Export the merged infeced and vaccinated files"
   ]
  },
  {
   "cell_type": "code",
   "execution_count": null,
   "id": "012bd800-f82d-48fc-bd82-e9398e5eb402",
   "metadata": {},
   "outputs": [],
   "source": [
    "infected_vaxed.to_csv('../data/I_V_all_states.csv')"
   ]
  }
 ],
 "metadata": {
  "kernelspec": {
   "display_name": "Python 3 (ipykernel)",
   "language": "python",
   "name": "python3"
  },
  "language_info": {
   "codemirror_mode": {
    "name": "ipython",
    "version": 3
   },
   "file_extension": ".py",
   "mimetype": "text/x-python",
   "name": "python",
   "nbconvert_exporter": "python",
   "pygments_lexer": "ipython3",
   "version": "3.10.2"
  },
  "widgets": {
   "application/vnd.jupyter.widget-state+json": {
    "state": {},
    "version_major": 2,
    "version_minor": 0
   }
  }
 },
 "nbformat": 4,
 "nbformat_minor": 5
}
